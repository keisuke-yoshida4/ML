{
 "cells": [
  {
   "cell_type": "code",
   "execution_count": 32,
   "id": "32bcec9f-d184-4fcd-a002-5f99dce319bc",
   "metadata": {},
   "outputs": [],
   "source": [
    "import pandas as pd\n",
    "import numpy as np\n",
    "import matplotlib.pyplot as plt\n",
    "import seaborn as sns\n",
    "import math\n",
    "from sklearn.preprocessing import LabelEncoder, StandardScaler\n",
    "from sklearn.model_selection import train_test_split\n",
    "from imblearn.over_sampling import SMOTE\n",
    "from sklearn.ensemble import RandomForestClassifier\n",
    "from sklearn.model_selection import RandomizedSearchCV, KFold\n",
    "from sklearn.metrics import confusion_matrix, roc_auc_score, accuracy_score, precision_score, recall_score, f1_score, roc_curve, auc, precision_recall_curve, make_scorer,classification_report\n",
    "import time"
   ]
  },
  {
   "cell_type": "code",
   "execution_count": 4,
   "id": "beb53b20-3c17-4a46-978b-a61547f73e75",
   "metadata": {},
   "outputs": [
    {
     "data": {
      "text/html": [
       "<div>\n",
       "<style scoped>\n",
       "    .dataframe tbody tr th:only-of-type {\n",
       "        vertical-align: middle;\n",
       "    }\n",
       "\n",
       "    .dataframe tbody tr th {\n",
       "        vertical-align: top;\n",
       "    }\n",
       "\n",
       "    .dataframe thead th {\n",
       "        text-align: right;\n",
       "    }\n",
       "</style>\n",
       "<table border=\"1\" class=\"dataframe\">\n",
       "  <thead>\n",
       "    <tr style=\"text-align: right;\">\n",
       "      <th></th>\n",
       "      <th>Air temperature [K]</th>\n",
       "      <th>Process temperature [K]</th>\n",
       "      <th>Rotational speed [rpm]</th>\n",
       "      <th>Torque [Nm]</th>\n",
       "      <th>Tool wear [min]</th>\n",
       "      <th>Machine failure</th>\n",
       "      <th>TWF</th>\n",
       "      <th>HDF</th>\n",
       "      <th>PWF</th>\n",
       "      <th>OSF</th>\n",
       "      <th>Type_L</th>\n",
       "      <th>Type_M</th>\n",
       "    </tr>\n",
       "    <tr>\n",
       "      <th>id</th>\n",
       "      <th></th>\n",
       "      <th></th>\n",
       "      <th></th>\n",
       "      <th></th>\n",
       "      <th></th>\n",
       "      <th></th>\n",
       "      <th></th>\n",
       "      <th></th>\n",
       "      <th></th>\n",
       "      <th></th>\n",
       "      <th></th>\n",
       "      <th></th>\n",
       "    </tr>\n",
       "  </thead>\n",
       "  <tbody>\n",
       "    <tr>\n",
       "      <th>0</th>\n",
       "      <td>300.6</td>\n",
       "      <td>309.6</td>\n",
       "      <td>1596</td>\n",
       "      <td>36.1</td>\n",
       "      <td>140</td>\n",
       "      <td>0</td>\n",
       "      <td>0</td>\n",
       "      <td>0</td>\n",
       "      <td>0</td>\n",
       "      <td>0</td>\n",
       "      <td>1</td>\n",
       "      <td>0</td>\n",
       "    </tr>\n",
       "    <tr>\n",
       "      <th>1</th>\n",
       "      <td>302.6</td>\n",
       "      <td>312.1</td>\n",
       "      <td>1759</td>\n",
       "      <td>29.1</td>\n",
       "      <td>200</td>\n",
       "      <td>0</td>\n",
       "      <td>0</td>\n",
       "      <td>0</td>\n",
       "      <td>0</td>\n",
       "      <td>0</td>\n",
       "      <td>0</td>\n",
       "      <td>1</td>\n",
       "    </tr>\n",
       "    <tr>\n",
       "      <th>2</th>\n",
       "      <td>299.3</td>\n",
       "      <td>308.5</td>\n",
       "      <td>1805</td>\n",
       "      <td>26.5</td>\n",
       "      <td>25</td>\n",
       "      <td>0</td>\n",
       "      <td>0</td>\n",
       "      <td>0</td>\n",
       "      <td>0</td>\n",
       "      <td>0</td>\n",
       "      <td>1</td>\n",
       "      <td>0</td>\n",
       "    </tr>\n",
       "    <tr>\n",
       "      <th>3</th>\n",
       "      <td>301.0</td>\n",
       "      <td>310.9</td>\n",
       "      <td>1524</td>\n",
       "      <td>44.3</td>\n",
       "      <td>197</td>\n",
       "      <td>0</td>\n",
       "      <td>0</td>\n",
       "      <td>0</td>\n",
       "      <td>0</td>\n",
       "      <td>0</td>\n",
       "      <td>1</td>\n",
       "      <td>0</td>\n",
       "    </tr>\n",
       "    <tr>\n",
       "      <th>4</th>\n",
       "      <td>298.0</td>\n",
       "      <td>309.0</td>\n",
       "      <td>1641</td>\n",
       "      <td>35.4</td>\n",
       "      <td>34</td>\n",
       "      <td>0</td>\n",
       "      <td>0</td>\n",
       "      <td>0</td>\n",
       "      <td>0</td>\n",
       "      <td>0</td>\n",
       "      <td>0</td>\n",
       "      <td>1</td>\n",
       "    </tr>\n",
       "  </tbody>\n",
       "</table>\n",
       "</div>"
      ],
      "text/plain": [
       "    Air temperature [K]  Process temperature [K]  Rotational speed [rpm]  \\\n",
       "id                                                                         \n",
       "0                 300.6                    309.6                    1596   \n",
       "1                 302.6                    312.1                    1759   \n",
       "2                 299.3                    308.5                    1805   \n",
       "3                 301.0                    310.9                    1524   \n",
       "4                 298.0                    309.0                    1641   \n",
       "\n",
       "    Torque [Nm]  Tool wear [min]  Machine failure  TWF  HDF  PWF  OSF  Type_L  \\\n",
       "id                                                                              \n",
       "0          36.1              140                0    0    0    0    0       1   \n",
       "1          29.1              200                0    0    0    0    0       0   \n",
       "2          26.5               25                0    0    0    0    0       1   \n",
       "3          44.3              197                0    0    0    0    0       1   \n",
       "4          35.4               34                0    0    0    0    0       0   \n",
       "\n",
       "    Type_M  \n",
       "id          \n",
       "0        0  \n",
       "1        1  \n",
       "2        0  \n",
       "3        0  \n",
       "4        1  "
      ]
     },
     "execution_count": 4,
     "metadata": {},
     "output_type": "execute_result"
    }
   ],
   "source": [
    "df = pd.read_csv('train.csv', index_col=0)\n",
    "test = pd.read_csv('test.csv', index_col=0)\n",
    "df = df.drop(['Product ID', 'RNF'], axis=1)\n",
    "test = test.drop(['Product ID', 'RNF'], axis=1)\n",
    "df = pd.get_dummies(df, columns=['Type'], drop_first=True)\n",
    "test = pd.get_dummies(test, columns=['Type'], drop_first=True)\n",
    "df.head()"
   ]
  },
  {
   "cell_type": "code",
   "execution_count": 18,
   "id": "c508a5d7-b946-4711-bf77-671e17979e7e",
   "metadata": {},
   "outputs": [
    {
     "name": "stdout",
     "output_type": "stream",
     "text": [
      "Training completed in 3.18 minutes\n"
     ]
    },
    {
     "data": {
      "text/plain": [
       "0.8821213620284477"
      ]
     },
     "execution_count": 18,
     "metadata": {},
     "output_type": "execute_result"
    }
   ],
   "source": [
    "# X_train = df.drop('Machine failure', axis=1)\n",
    "# y_train = df['Machine failure']\n",
    "# start_time = time.time()\n",
    "# cv = KFold(n_splits=3, shuffle=True, random_state=42)\n",
    "# rf = RandomForestClassifier()\n",
    "# param_dist = {\n",
    "# 'n_estimators': np.arange(10, 200, 10),\n",
    "# 'max_depth': np.arange(1, 20),\n",
    "# 'min_samples_split': np.arange(2, 20),\n",
    "# 'min_samples_leaf': np.arange(1, 20),\n",
    "# 'bootstrap': [True, False]\n",
    "# }\n",
    "# random_search = RandomizedSearchCV(rf, param_distributions=param_dist, n_iter=20, cv=cv, scoring=make_scorer(roc_auc_score), n_jobs=-1)\n",
    "# random_search.fit(X_train, y_train)\n",
    "# print('Training completed in {} minutes'.format(round((time.time() - start_time)/60, 2)))\n",
    "# random_search.best_params_\n",
    "# random_search.best_score_"
   ]
  },
  {
   "cell_type": "code",
   "execution_count": 19,
   "id": "e4a83435-c8ca-4c29-896e-ada67800a23d",
   "metadata": {},
   "outputs": [
    {
     "name": "stdout",
     "output_type": "stream",
     "text": [
      "Classification Report:\n",
      "              precision    recall  f1-score   support\n",
      "\n",
      "           0       1.00      1.00      1.00    134281\n",
      "           1       0.99      0.77      0.87      2148\n",
      "\n",
      "    accuracy                           1.00    136429\n",
      "   macro avg       0.99      0.88      0.93    136429\n",
      "weighted avg       1.00      1.00      1.00    136429\n",
      "\n",
      "accuracy_score:\n",
      "0.9962398023880553\n",
      "precision_score:\n",
      "0.9921733895243829\n",
      "recall_score:\n",
      "0.7672253258845437\n",
      "f1_score:\n",
      "0.8653189813599369\n",
      "Confusion Matrix:\n",
      "[[134268     13]\n",
      " [   500   1648]]\n",
      "ROC AUC Score: 0.8835642569875947\n"
     ]
    }
   ],
   "source": [
    "# best_rf = random_search.best_estimator_\n",
    "# y_pred = best_rf.predict(X_train)\n",
    "# print('Classification Report:')\n",
    "# print(classification_report(y_train, y_pred))\n",
    "\n",
    "# accuracy = accuracy_score(y_train, y_pred)\n",
    "# print('accuracy_score:')\n",
    "# print(accuracy)\n",
    "# precision = precision_score(y_train, y_pred)\n",
    "# print('precision_score:')\n",
    "# print(precision)\n",
    "# recall = recall_score(y_train, y_pred)\n",
    "# print('recall_score:')\n",
    "# print(recall)\n",
    "# f1 = f1_score(y_train, y_pred)\n",
    "# print('f1_score:')\n",
    "# print(f1)\n",
    "# cm = confusion_matrix(y_train, y_pred)\n",
    "# print('Confusion Matrix:')\n",
    "# print(cm)\n",
    "# roc_auc = roc_auc_score(y_train, y_pred)\n",
    "# print('ROC AUC Score:', roc_auc)"
   ]
  },
  {
   "cell_type": "code",
   "execution_count": 49,
   "id": "8b545af9-7658-470a-b666-fb55966ff359",
   "metadata": {},
   "outputs": [
    {
     "name": "stdout",
     "output_type": "stream",
     "text": [
      "Training completed in 6.13 minutes\n"
     ]
    }
   ],
   "source": [
    "X_train = df.drop('Machine failure', axis=1)\n",
    "y_train = df['Machine failure']\n",
    "start_time = time.time()\n",
    "cv = KFold(n_splits=4, shuffle=True, random_state=42)\n",
    "rf = RandomForestClassifier()\n",
    "param_dist = {\n",
    "'n_estimators': np.arange(10, 200, 10),\n",
    "'max_depth': np.arange(1, 20),\n",
    "'min_samples_split': np.arange(2, 20),\n",
    "'min_samples_leaf': np.arange(1, 20),\n",
    "'bootstrap': [True, False]\n",
    "}\n",
    "start_time = time.time()\n",
    "rf_balanced = RandomForestClassifier(class_weight='balanced')\n",
    "random_search_balanced = RandomizedSearchCV(rf_balanced, param_distributions=param_dist, n_iter=30, cv=cv, scoring=make_scorer(roc_auc_score), n_jobs=-1)\n",
    "random_search_balanced.fit(X_train, y_train)\n",
    "print('Training completed in {} minutes'.format(round((time.time() - start_time)/60, 2)))"
   ]
  },
  {
   "cell_type": "code",
   "execution_count": 50,
   "id": "4dbc0d4d-85d8-419e-95e9-65b2f106dc4a",
   "metadata": {},
   "outputs": [
    {
     "data": {
      "text/plain": [
       "{'n_estimators': 180,\n",
       " 'min_samples_split': 7,\n",
       " 'min_samples_leaf': 19,\n",
       " 'max_depth': 8,\n",
       " 'bootstrap': True}"
      ]
     },
     "execution_count": 50,
     "metadata": {},
     "output_type": "execute_result"
    }
   ],
   "source": [
    "random_search_balanced.best_params_"
   ]
  },
  {
   "cell_type": "code",
   "execution_count": 51,
   "id": "eec072e9-e102-4457-bce0-3ccfdca5c46d",
   "metadata": {},
   "outputs": [
    {
     "data": {
      "text/plain": [
       "0.9119779854414009"
      ]
     },
     "execution_count": 51,
     "metadata": {},
     "output_type": "execute_result"
    }
   ],
   "source": [
    "random_search_balanced.best_score_"
   ]
  },
  {
   "cell_type": "code",
   "execution_count": 52,
   "id": "e63cedad-eec3-4109-b55c-9058537b1005",
   "metadata": {},
   "outputs": [
    {
     "name": "stdout",
     "output_type": "stream",
     "text": [
      "Classification Report:\n",
      "              precision    recall  f1-score   support\n",
      "\n",
      "           0       1.00      0.96      0.98    134281\n",
      "           1       0.28      0.88      0.42      2148\n",
      "\n",
      "    accuracy                           0.96    136429\n",
      "   macro avg       0.64      0.92      0.70    136429\n",
      "weighted avg       0.99      0.96      0.97    136429\n",
      "\n",
      "accuracy_score:\n",
      "0.9620242030653307\n",
      "precision_score:\n",
      "0.277932347342217\n",
      "recall_score:\n",
      "0.8836126629422719\n",
      "f1_score:\n",
      "0.422858415951877\n",
      "Confusion Matrix:\n",
      "[[129350   4931]\n",
      " [   250   1898]]\n",
      "ROC AUC Score: 0.9234455805086023\n"
     ]
    }
   ],
   "source": [
    "best_rf_balanced = random_search_balanced.best_estimator_\n",
    "y_pred_balanced = best_rf_balanced.predict(X_train)\n",
    "print('Classification Report:')\n",
    "print(classification_report(y_train, y_pred_balanced))\n",
    "\n",
    "accuracy = accuracy_score(y_train, y_pred_balanced)\n",
    "print('accuracy_score:')\n",
    "print(accuracy)\n",
    "precision = precision_score(y_train, y_pred_balanced)\n",
    "print('precision_score:')\n",
    "print(precision)\n",
    "recall = recall_score(y_train, y_pred_balanced)\n",
    "print('recall_score:')\n",
    "print(recall)\n",
    "f1 = f1_score(y_train, y_pred_balanced)\n",
    "print('f1_score:')\n",
    "print(f1)\n",
    "cm = confusion_matrix(y_train, y_pred_balanced)\n",
    "print('Confusion Matrix:')\n",
    "print(cm)\n",
    "roc_auc_balanced = roc_auc_score(y_train, y_pred_balanced)\n",
    "print('ROC AUC Score:', roc_auc_balanced)"
   ]
  },
  {
   "cell_type": "code",
   "execution_count": 53,
   "id": "5d33b5d9-8a62-4610-98dc-f66fad99ef1f",
   "metadata": {},
   "outputs": [
    {
     "data": {
      "image/png": "[encoded data removed]",
      "text/plain": [
       "<Figure size 800x600 with 1 Axes>"
      ]
     },
     "metadata": {},
     "output_type": "display_data"
    }
   ],
   "source": [
    "fpr_balanced, tpr_balanced, _ = roc_curve(y_train, y_pred_balanced)\n",
    "plt.figure(figsize=(8, 6))\n",
    "plt.plot(fpr_balanced, tpr_balanced, label='ROC curve (area = %0.2f)' % roc_auc_balanced)\n",
    "plt.plot([0, 1], [0, 1], 'k--')\n",
    "plt.xlim([0.0, 1.0])\n",
    "plt.ylim([0.0, 1.05])\n",
    "plt.xlabel('False Positive Rate')\n",
    "plt.ylabel('True Positive Rate')\n",
    "plt.title('Receiver Operating Characteristic')\n",
    "plt.legend(loc='lower right')\n",
    "plt.show()"
   ]
  },
  {
   "cell_type": "code",
   "execution_count": null,
   "id": "e09f9986-5c6f-4367-9036-7975e076187f",
   "metadata": {},
   "outputs": [],
   "source": []
  }
 ],
 "metadata": {
  "kernelspec": {
   "display_name": "Python 3 (ipykernel)",
   "language": "python",
   "name": "python3"
  },
  "language_info": {
   "codemirror_mode": {
    "name": "ipython",
    "version": 3
   },
   "file_extension": ".py",
   "mimetype": "text/x-python",
   "name": "python",
   "nbconvert_exporter": "python",
   "pygments_lexer": "ipython3",
   "version": "3.9.13"
  }
 },
 "nbformat": 4,
 "nbformat_minor": 5
}
