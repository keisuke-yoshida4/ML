{
 "cells": [
  {
   "cell_type": "markdown",
   "id": "3f1e3c6e-f93a-4896-867f-203f052d3031",
   "metadata": {},
   "source": [
    "## Greedy feature selection"
   ]
  },
  {
   "cell_type": "code",
   "execution_count": 9,
   "id": "23a1da2f-37e1-447a-9979-91dcb0c07f81",
   "metadata": {},
   "outputs": [],
   "source": [
    "import pandas as pd\n",
    "import numpy as np\n",
    "from sklearn.impute import SimpleImputer"
   ]
  },
  {
   "cell_type": "code",
   "execution_count": 5,
   "id": "3bcccf52-822b-49e8-b038-a1fa0d9d2767",
   "metadata": {},
   "outputs": [],
   "source": [
    "df = pd.read_csv('penguins_size.csv')\n",
    "df.loc[df[df['sex']=='.'].index, 'sex'] = np.nan"
   ]
  },
  {
   "cell_type": "code",
   "execution_count": 8,
   "id": "cdf7c103-7c4c-4801-ad05-6f10094eb2b2",
   "metadata": {},
   "outputs": [
    {
     "name": "stdout",
     "output_type": "stream",
     "text": [
      "<class 'pandas.core.frame.DataFrame'>\n",
      "Int64Index: 342 entries, 0 to 343\n",
      "Data columns (total 7 columns):\n",
      " #   Column             Non-Null Count  Dtype  \n",
      "---  ------             --------------  -----  \n",
      " 0   species            342 non-null    object \n",
      " 1   island             342 non-null    object \n",
      " 2   culmen_length_mm   342 non-null    float64\n",
      " 3   culmen_depth_mm    342 non-null    float64\n",
      " 4   flipper_length_mm  342 non-null    float64\n",
      " 5   body_mass_g        342 non-null    float64\n",
      " 6   sex                333 non-null    object \n",
      "dtypes: float64(4), object(3)\n",
      "memory usage: 21.4+ KB\n"
     ]
    }
   ],
   "source": [
    "df.info()"
   ]
  },
  {
   "cell_type": "code",
   "execution_count": 7,
   "id": "d8437512-38ce-4ab6-b284-1d8b9b80be57",
   "metadata": {},
   "outputs": [],
   "source": [
    "# 3つ以上値を持っていないレコードを削除\n",
    "df.dropna(thresh=3, inplace=True)"
   ]
  },
  {
   "cell_type": "code",
   "execution_count": null,
   "id": "f636a6a7-5951-41b8-a12a-532717dd148f",
   "metadata": {},
   "outputs": [],
   "source": [
    "X = df.drop('species', axis=1)\n",
    "y = df['species']\n",
    "# fill_valueで欠損値を置換\n",
    "imputer = SimpleImputer(strategy='constant', fill_value='NaN')\n",
    "X['sex'] = imputer.fit_transform(X[['sex']])"
   ]
  },
  {
   "cell_type": "code",
   "execution_count": null,
   "id": "45b0240d-b38f-47dc-a50f-279f84aa1cf4",
   "metadata": {},
   "outputs": [],
   "source": []
  }
 ],
 "metadata": {
  "kernelspec": {
   "display_name": "Python 3 (ipykernel)",
   "language": "python",
   "name": "python3"
  },
  "language_info": {
   "codemirror_mode": {
    "name": "ipython",
    "version": 3
   },
   "file_extension": ".py",
   "mimetype": "text/x-python",
   "name": "python",
   "nbconvert_exporter": "python",
   "pygments_lexer": "ipython3",
   "version": "3.9.13"
  }
 },
 "nbformat": 4,
 "nbformat_minor": 5
}
