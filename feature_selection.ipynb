{
 "cells": [
  {
   "cell_type": "markdown",
   "id": "3f1e3c6e-f93a-4896-867f-203f052d3031",
   "metadata": {},
   "source": [
    "## Greedy feature selection"
   ]
  },
  {
   "cell_type": "code",
   "execution_count": 53,
   "id": "23a1da2f-37e1-447a-9979-91dcb0c07f81",
   "metadata": {},
   "outputs": [],
   "source": [
    "import pandas as pd\n",
    "import numpy as np\n",
    "import matplotlib.pyplot as plt\n",
    "from sklearn.impute import SimpleImputer\n",
    "from sklearn.base import BaseEstimator, TransformerMixin\n",
    "from sklearn.preprocessing import PolynomialFeatures, StandardScaler\n",
    "from sklearn.pipeline import Pipeline\n",
    "from sklearn.linear_model import LogisticRegression\n",
    "from sklearn.model_selection import KFold, cross_val_score\n",
    "from sklearn.feature_selection import RFE, RFECV, SelectFromModel\n",
    "from sklearn.tree import DecisionTreeClassifier\n",
    "from sklearn.ensemble import RandomForestClassifier"
   ]
  },
  {
   "cell_type": "code",
   "execution_count": 3,
   "id": "3bcccf52-822b-49e8-b038-a1fa0d9d2767",
   "metadata": {},
   "outputs": [],
   "source": [
    "df = pd.read_csv('penguins_size.csv')\n",
    "df.loc[df[df['sex']=='.'].index, 'sex'] = np.nan"
   ]
  },
  {
   "cell_type": "code",
   "execution_count": 4,
   "id": "cdf7c103-7c4c-4801-ad05-6f10094eb2b2",
   "metadata": {},
   "outputs": [
    {
     "name": "stdout",
     "output_type": "stream",
     "text": [
      "<class 'pandas.core.frame.DataFrame'>\n",
      "RangeIndex: 344 entries, 0 to 343\n",
      "Data columns (total 7 columns):\n",
      " #   Column             Non-Null Count  Dtype  \n",
      "---  ------             --------------  -----  \n",
      " 0   species            344 non-null    object \n",
      " 1   island             344 non-null    object \n",
      " 2   culmen_length_mm   342 non-null    float64\n",
      " 3   culmen_depth_mm    342 non-null    float64\n",
      " 4   flipper_length_mm  342 non-null    float64\n",
      " 5   body_mass_g        342 non-null    float64\n",
      " 6   sex                333 non-null    object \n",
      "dtypes: float64(4), object(3)\n",
      "memory usage: 18.9+ KB\n"
     ]
    }
   ],
   "source": [
    "df.info()"
   ]
  },
  {
   "cell_type": "code",
   "execution_count": 5,
   "id": "d8437512-38ce-4ab6-b284-1d8b9b80be57",
   "metadata": {},
   "outputs": [],
   "source": [
    "# 3つ以上値を持っていないレコードを削除\n",
    "df.dropna(thresh=3, inplace=True)"
   ]
  },
  {
   "cell_type": "code",
   "execution_count": 34,
   "id": "f636a6a7-5951-41b8-a12a-532717dd148f",
   "metadata": {},
   "outputs": [
    {
     "name": "stdout",
     "output_type": "stream",
     "text": [
      "greedy selection started\n",
      "island started\n",
      "['island'] started\n",
      "best score updated 0 -> 0.7076023391812866\n",
      "culmen_length_mm started\n",
      "['culmen_length_mm'] started\n",
      "best score updated 0.7076023391812866 -> 0.7514619883040936\n",
      "culmen_depth_mm started\n",
      "['culmen_depth_mm'] started\n",
      "best score updated 0.7514619883040936 -> 0.7573099415204679\n",
      "flipper_length_mm started\n",
      "['flipper_length_mm'] started\n",
      "best score updated 0.7573099415204679 -> 0.7982456140350876\n",
      "body_mass_g started\n",
      "['body_mass_g'] started\n",
      "sex started\n",
      "['sex'] started\n",
      "culmen_length_mm^2 started\n",
      "['culmen_length_mm^2'] started\n",
      "culmen_length_mm * culmen_depth_mm started\n",
      "['culmen_length_mm * culmen_depth_mm'] started\n",
      "culmen_depth_mm^2 started\n",
      "['culmen_depth_mm^2'] started\n",
      "culmen_diff started\n",
      "['culmen_diff'] started\n",
      "best score updated 0.7982456140350876 -> 0.8187134502923977\n",
      "culmen_ratio started\n",
      "['culmen_ratio'] started\n",
      "best score updated 0.8187134502923977 -> 0.9619883040935672\n",
      "===============culmen_ratio is selected ===============\n",
      "greedy selection started\n",
      "island started\n",
      "['culmen_ratio', 'island'] started\n",
      "best score updated 0.9619883040935672 -> 0.9912280701754387\n",
      "culmen_length_mm started\n",
      "['culmen_ratio', 'culmen_length_mm'] started\n",
      "culmen_depth_mm started\n",
      "['culmen_ratio', 'culmen_depth_mm'] started\n",
      "flipper_length_mm started\n",
      "['culmen_ratio', 'flipper_length_mm'] started\n",
      "body_mass_g started\n",
      "['culmen_ratio', 'body_mass_g'] started\n",
      "sex started\n",
      "['culmen_ratio', 'sex'] started\n",
      "culmen_length_mm^2 started\n",
      "['culmen_ratio', 'culmen_length_mm^2'] started\n",
      "culmen_length_mm * culmen_depth_mm started\n",
      "['culmen_ratio', 'culmen_length_mm * culmen_depth_mm'] started\n",
      "culmen_depth_mm^2 started\n",
      "['culmen_ratio', 'culmen_depth_mm^2'] started\n",
      "culmen_diff started\n",
      "['culmen_ratio', 'culmen_diff'] started\n",
      "===============island is selected ===============\n",
      "greedy selection started\n",
      "culmen_length_mm started\n",
      "['culmen_ratio', 'island', 'culmen_length_mm'] started\n",
      "best score updated 0.9912280701754387 -> 0.9941520467836257\n",
      "culmen_depth_mm started\n",
      "['culmen_ratio', 'island', 'culmen_depth_mm'] started\n",
      "flipper_length_mm started\n",
      "['culmen_ratio', 'island', 'flipper_length_mm'] started\n",
      "body_mass_g started\n",
      "['culmen_ratio', 'island', 'body_mass_g'] started\n",
      "sex started\n",
      "['culmen_ratio', 'island', 'sex'] started\n",
      "culmen_length_mm^2 started\n",
      "['culmen_ratio', 'island', 'culmen_length_mm^2'] started\n",
      "culmen_length_mm * culmen_depth_mm started\n",
      "['culmen_ratio', 'island', 'culmen_length_mm * culmen_depth_mm'] started\n",
      "culmen_depth_mm^2 started\n",
      "['culmen_ratio', 'island', 'culmen_depth_mm^2'] started\n",
      "culmen_diff started\n",
      "['culmen_ratio', 'island', 'culmen_diff'] started\n",
      "best score updated 0.9941520467836257 -> 0.9970760233918128\n",
      "===============culmen_diff is selected ===============\n",
      "greedy selection started\n",
      "culmen_length_mm started\n",
      "['culmen_ratio', 'island', 'culmen_diff', 'culmen_length_mm'] started\n",
      "culmen_depth_mm started\n",
      "['culmen_ratio', 'island', 'culmen_diff', 'culmen_depth_mm'] started\n",
      "flipper_length_mm started\n",
      "['culmen_ratio', 'island', 'culmen_diff', 'flipper_length_mm'] started\n",
      "body_mass_g started\n",
      "['culmen_ratio', 'island', 'culmen_diff', 'body_mass_g'] started\n",
      "best score updated 0.9970760233918128 -> 1.0\n",
      "sex started\n",
      "['culmen_ratio', 'island', 'culmen_diff', 'sex'] started\n",
      "culmen_length_mm^2 started\n",
      "['culmen_ratio', 'island', 'culmen_diff', 'culmen_length_mm^2'] started\n",
      "culmen_length_mm * culmen_depth_mm started\n",
      "['culmen_ratio', 'island', 'culmen_diff', 'culmen_length_mm * culmen_depth_mm'] started\n",
      "culmen_depth_mm^2 started\n",
      "['culmen_ratio', 'island', 'culmen_diff', 'culmen_depth_mm^2'] started\n",
      "===============body_mass_g is selected ===============\n",
      "greedy selection started\n",
      "culmen_length_mm started\n",
      "['culmen_ratio', 'island', 'culmen_diff', 'body_mass_g', 'culmen_length_mm'] started\n",
      "culmen_depth_mm started\n",
      "['culmen_ratio', 'island', 'culmen_diff', 'body_mass_g', 'culmen_depth_mm'] started\n",
      "flipper_length_mm started\n",
      "['culmen_ratio', 'island', 'culmen_diff', 'body_mass_g', 'flipper_length_mm'] started\n",
      "sex started\n",
      "['culmen_ratio', 'island', 'culmen_diff', 'body_mass_g', 'sex'] started\n",
      "culmen_length_mm^2 started\n",
      "['culmen_ratio', 'island', 'culmen_diff', 'body_mass_g', 'culmen_length_mm^2'] started\n",
      "culmen_length_mm * culmen_depth_mm started\n",
      "['culmen_ratio', 'island', 'culmen_diff', 'body_mass_g', 'culmen_length_mm * culmen_depth_mm'] started\n",
      "culmen_depth_mm^2 started\n",
      "['culmen_ratio', 'island', 'culmen_diff', 'body_mass_g', 'culmen_depth_mm^2'] started\n"
     ]
    }
   ],
   "source": [
    "X = df.drop('species', axis=1)\n",
    "y = df['species']\n",
    "\n",
    "# fill_valueで欠損値を置換\n",
    "imputer = SimpleImputer(strategy='constant', fill_value='NaN')\n",
    "imputer.set_output(transform='pandas')\n",
    "X['sex'] = imputer.fit_transform(X[['sex']])\n",
    "\n",
    "# one-hot-encording\n",
    "class GetDummies(BaseEstimator, TransformerMixin):\n",
    "    \n",
    "    def __init__(self):\n",
    "        self.columns = None\n",
    "        \n",
    "    def fit(self, X, y=None):\n",
    "        self.columns = pd.get_dummies(X).columns\n",
    "        return self\n",
    "    \n",
    "    def transform(self, X):\n",
    "        X_new = pd.get_dummies(X)\n",
    "        return X_new.reindex(columns=self.columns, fill_value=0)\n",
    "\n",
    "# 特徴量エンジニアリング\n",
    "poly = PolynomialFeatures(degree=2, include_bias=False)\n",
    "X[['culmen_length_mm', 'culmen_depth_mm', 'culmen_length_mm^2', 'culmen_length_mm * culmen_depth_mm', 'culmen_depth_mm^2']] = poly.fit_transform(X[['culmen_length_mm', 'culmen_depth_mm']])\n",
    "# 四則演算\n",
    "X['culmen_diff'] = X['culmen_length_mm'] - X['culmen_depth_mm']\n",
    "X['culmen_ratio'] = X['culmen_length_mm'] / X['culmen_depth_mm']\n",
    "\n",
    "# Pipeline\n",
    "pipeline = Pipeline([('dummy', GetDummies()),\n",
    "          ('scaler', StandardScaler()),\n",
    "          ('model', LogisticRegression())])\n",
    "\n",
    "#cv\n",
    "cv = KFold(n_splits=3, random_state=0, shuffle=True)\n",
    "\n",
    "# Greedy feature selection\n",
    "gfs = GreedyFeatureSelection(pipeline=pipeline, cv=cv)\n",
    "gfs.select_feature(X, y)\n"
   ]
  },
  {
   "cell_type": "code",
   "execution_count": 35,
   "id": "52152062-59d9-4083-872c-5e557d8493ae",
   "metadata": {},
   "outputs": [
    {
     "name": "stdout",
     "output_type": "stream",
     "text": [
      "[0, 0.9619883040935672, 0.9912280701754387, 0.9970760233918128, 1.0]\n"
     ]
    }
   ],
   "source": [
    "print(gfs.scores)"
   ]
  },
  {
   "cell_type": "code",
   "execution_count": 32,
   "id": "90a8c469-0c48-44d9-a1d0-13a7f1ea6621",
   "metadata": {},
   "outputs": [
    {
     "data": {
      "text/plain": [
       "['culmen_ratio', 'island', 'culmen_diff', 'body_mass_g']"
      ]
     },
     "execution_count": 32,
     "metadata": {},
     "output_type": "execute_result"
    }
   ],
   "source": [
    "gfs.selected_features"
   ]
  },
  {
   "cell_type": "code",
   "execution_count": 33,
   "id": "45b0240d-b38f-47dc-a50f-279f84aa1cf4",
   "metadata": {},
   "outputs": [],
   "source": [
    "class GreedyFeatureSelection():\n",
    "    \n",
    "    def __init__(self, pipeline, cv):\n",
    "        self.pipeline = pipeline\n",
    "        self.cv = cv\n",
    "        self.selected_features = []\n",
    "        self.scores = [0]\n",
    "        \n",
    "    def select_feature(self, X, y):\n",
    "        all_features = X.columns\n",
    "        while True:\n",
    "            print('greedy selection started')\n",
    "            best_score = self.scores[-1]\n",
    "            candidate_feature = None\n",
    "            for feature in all_features:\n",
    "                if feature in self.selected_features:\n",
    "                    continue\n",
    "                print(f'{feature} started')\n",
    "                features = self.selected_features + [feature]\n",
    "                X_train = X[features]\n",
    "                # 評価\n",
    "                score = cross_val_score(self.pipeline, X_train, y, cv=self.cv).mean()\n",
    "                print(f'{features} started')\n",
    "                if score > best_score:\n",
    "                    print(f'best score updated {best_score} -> {score}')\n",
    "                    best_score = score\n",
    "                    candidate_feature = feature\n",
    "            \n",
    "            if candidate_feature is not None:\n",
    "                print(f'==============={candidate_feature} is selected ===============')\n",
    "                self.scores.append(best_score)\n",
    "                self.selected_features.append(candidate_feature)\n",
    "            else:\n",
    "                break"
   ]
  },
  {
   "cell_type": "markdown",
   "id": "e2db613c-851c-4e5d-86a4-015883fc328b",
   "metadata": {},
   "source": [
    "## RFE"
   ]
  },
  {
   "cell_type": "code",
   "execution_count": 39,
   "id": "aa43d3de-2efd-41ea-83ed-cbaafeb5baa3",
   "metadata": {},
   "outputs": [
    {
     "data": {
      "text/plain": [
       "array([[20.4       ,  2.09090909,  0.        ,  1.        ,  1.        ,\n",
       "         0.        ],\n",
       "       [22.1       ,  2.27011494,  0.        ,  1.        ,  0.        ,\n",
       "         0.        ],\n",
       "       [22.3       ,  2.23888889,  0.        ,  1.        ,  0.        ,\n",
       "         0.        ],\n",
       "       ...,\n",
       "       [34.7       ,  3.21019108,  0.        ,  0.        ,  1.        ,\n",
       "         0.        ],\n",
       "       [30.4       ,  3.05405405,  0.        ,  0.        ,  0.        ,\n",
       "         0.        ],\n",
       "       [33.8       ,  3.09937888,  0.        ,  0.        ,  1.        ,\n",
       "         0.        ]])"
      ]
     },
     "execution_count": 39,
     "metadata": {},
     "output_type": "execute_result"
    }
   ],
   "source": [
    "rfe = RFE(DecisionTreeClassifier(), n_features_to_select=6)\n",
    "X = pd.get_dummies(X, drop_first=True)\n",
    "rfe.fit(X, y)\n",
    "rfe.transform(X)"
   ]
  },
  {
   "cell_type": "code",
   "execution_count": 41,
   "id": "ba65e3bb-e4f9-42a4-a7c0-d83767205ee4",
   "metadata": {},
   "outputs": [
    {
     "data": {
      "text/plain": [
       "array([8, 7, 6, 5, 4, 3, 2, 1, 1, 1, 1, 1, 1])"
      ]
     },
     "execution_count": 41,
     "metadata": {},
     "output_type": "execute_result"
    }
   ],
   "source": [
    "rfe.ranking_"
   ]
  },
  {
   "cell_type": "code",
   "execution_count": 43,
   "id": "a1555bc0-ef44-4b68-a7de-09b111ec9fe5",
   "metadata": {},
   "outputs": [
    {
     "data": {
      "text/plain": [
       "array(['culmen_diff', 'culmen_ratio', 'island_Dream', 'island_Torgersen',\n",
       "       'sex_MALE', 'sex_NaN'], dtype=object)"
      ]
     },
     "execution_count": 43,
     "metadata": {},
     "output_type": "execute_result"
    }
   ],
   "source": [
    "rfe.feature_names_in_[rfe.support_]"
   ]
  },
  {
   "cell_type": "code",
   "execution_count": 44,
   "id": "f0a5af7c-89a0-43cd-a7a3-d28001f29d1b",
   "metadata": {},
   "outputs": [
    {
     "name": "stdout",
     "output_type": "stream",
     "text": [
      "[0.99122807 0.99122807 1.        ]\n"
     ]
    }
   ],
   "source": [
    "Pipeline([('rfe', rfe), ('scaler', StandardScaler()), ('model', LogisticRegression())])\n",
    "scores = cross_val_score(pipeline, X, y, cv=cv)\n",
    "print(scores)"
   ]
  },
  {
   "cell_type": "code",
   "execution_count": 47,
   "id": "c1921b96-b904-4e50-9b85-5b21f4cc2bf6",
   "metadata": {},
   "outputs": [
    {
     "data": {
      "text/plain": [
       "array([[20.4       ,  2.09090909,  0.        ],\n",
       "       [22.1       ,  2.27011494,  0.        ],\n",
       "       [22.3       ,  2.23888889,  0.        ],\n",
       "       ...,\n",
       "       [34.7       ,  3.21019108,  0.        ],\n",
       "       [30.4       ,  3.05405405,  0.        ],\n",
       "       [33.8       ,  3.09937888,  0.        ]])"
      ]
     },
     "execution_count": 47,
     "metadata": {},
     "output_type": "execute_result"
    }
   ],
   "source": [
    "# RFECV\n",
    "rfecv = RFECV(DecisionTreeClassifier(), cv=cv)\n",
    "rfecv.fit(X, y)\n",
    "rfecv.transform(X)"
   ]
  },
  {
   "cell_type": "code",
   "execution_count": 48,
   "id": "2cb1504a-9819-4984-ae14-acdc50621cbe",
   "metadata": {},
   "outputs": [
    {
     "data": {
      "text/plain": [
       "array(['culmen_diff', 'culmen_ratio', 'island_Dream'], dtype=object)"
      ]
     },
     "execution_count": 48,
     "metadata": {},
     "output_type": "execute_result"
    }
   ],
   "source": [
    "rfecv.feature_names_in_[rfecv.support_]"
   ]
  },
  {
   "cell_type": "code",
   "execution_count": 51,
   "id": "cbdb1360-b951-40c3-9e83-5115809e271f",
   "metadata": {},
   "outputs": [
    {
     "data": {
      "text/plain": [
       "<ErrorbarContainer object of 3 artists>"
      ]
     },
     "execution_count": 51,
     "metadata": {},
     "output_type": "execute_result"
    },
    {
     "data": {
      "image/png": "[encoded data removed]",
      "text/plain": [
       "<Figure size 640x480 with 1 Axes>"
      ]
     },
     "metadata": {},
     "output_type": "display_data"
    }
   ],
   "source": [
    "# rfecv.cv_results_\n",
    "plt.errorbar(range(1, 1+len(rfecv.cv_results_['mean_test_score'])),\n",
    "             rfecv.cv_results_['mean_test_score'],\n",
    "             yerr=rfecv.cv_results_['std_test_score'])"
   ]
  },
  {
   "cell_type": "code",
   "execution_count": 52,
   "id": "053e9185-84f6-468d-b9a6-486ff07c603b",
   "metadata": {},
   "outputs": [
    {
     "data": {
      "text/plain": [
       "array([0.8625731 , 0.97953216, 0.98830409, 0.98830409, 0.98830409,\n",
       "       0.98830409, 0.98830409, 0.98830409, 0.98830409, 0.98538012,\n",
       "       0.98538012, 0.98830409, 0.98830409])"
      ]
     },
     "execution_count": 52,
     "metadata": {},
     "output_type": "execute_result"
    }
   ],
   "source": [
    "rfecv.cv_results_['mean_test_score']"
   ]
  },
  {
   "cell_type": "markdown",
   "id": "e218e8e5-67f0-410f-8cd8-f4051b8aa566",
   "metadata": {},
   "source": [
    "## モデルの係数や重要度で特徴量選択"
   ]
  },
  {
   "cell_type": "code",
   "execution_count": 54,
   "id": "6de53ba7-5193-440f-82da-2362a44dd41f",
   "metadata": {},
   "outputs": [],
   "source": [
    "sfm = SelectFromModel(RandomForestClassifier(random_state=0))\n",
    "X_selected = sfm.fit_transform(X, y)"
   ]
  },
  {
   "cell_type": "code",
   "execution_count": 55,
   "id": "fe83df79-34e3-463c-ad90-afd4b2927092",
   "metadata": {},
   "outputs": [
    {
     "data": {
      "text/plain": [
       "array([[ 39.1       ,  18.7       , 181.        , ..., 349.69      ,\n",
       "         20.4       ,   2.09090909],\n",
       "       [ 39.5       ,  17.4       , 186.        , ..., 302.76      ,\n",
       "         22.1       ,   2.27011494],\n",
       "       [ 40.3       ,  18.        , 195.        , ..., 324.        ,\n",
       "         22.3       ,   2.23888889],\n",
       "       ...,\n",
       "       [ 50.4       ,  15.7       , 222.        , ..., 246.49      ,\n",
       "         34.7       ,   3.21019108],\n",
       "       [ 45.2       ,  14.8       , 212.        , ..., 219.04      ,\n",
       "         30.4       ,   3.05405405],\n",
       "       [ 49.9       ,  16.1       , 213.        , ..., 259.21      ,\n",
       "         33.8       ,   3.09937888]])"
      ]
     },
     "execution_count": 55,
     "metadata": {},
     "output_type": "execute_result"
    }
   ],
   "source": [
    "X_selected"
   ]
  },
  {
   "cell_type": "code",
   "execution_count": 56,
   "id": "44770c94-b6ec-4f1b-9556-ebc89dec141a",
   "metadata": {},
   "outputs": [
    {
     "data": {
      "text/plain": [
       "array([0.08924232, 0.07961904, 0.09933245, 0.0525517 , 0.08072858,\n",
       "       0.01467092, 0.10925035, 0.14543881, 0.24562145, 0.07424349,\n",
       "       0.00630753, 0.00299336, 0.        ])"
      ]
     },
     "execution_count": 56,
     "metadata": {},
     "output_type": "execute_result"
    }
   ],
   "source": [
    "sfm.estimator_.feature_importances_"
   ]
  },
  {
   "cell_type": "code",
   "execution_count": 57,
   "id": "508c9111-f411-4cfb-97b1-c1b76582bea8",
   "metadata": {},
   "outputs": [
    {
     "data": {
      "text/plain": [
       "array(['culmen_length_mm', 'culmen_depth_mm', 'flipper_length_mm',\n",
       "       'culmen_length_mm^2', 'culmen_depth_mm^2', 'culmen_diff',\n",
       "       'culmen_ratio'], dtype=object)"
      ]
     },
     "execution_count": 57,
     "metadata": {},
     "output_type": "execute_result"
    }
   ],
   "source": [
    "sfm.feature_names_in_[sfm.get_support()]"
   ]
  },
  {
   "cell_type": "code",
   "execution_count": 58,
   "id": "ac7e7563-29ce-41df-a516-7faa412ea1ca",
   "metadata": {},
   "outputs": [
    {
     "data": {
      "text/plain": [
       "array([ True,  True,  True, False,  True, False,  True,  True,  True,\n",
       "       False, False, False, False])"
      ]
     },
     "execution_count": 58,
     "metadata": {},
     "output_type": "execute_result"
    }
   ],
   "source": [
    "sfm.get_support()"
   ]
  },
  {
   "cell_type": "markdown",
   "id": "63b7c678-4f7a-48f6-b21f-9472bb702968",
   "metadata": {},
   "source": [
    "## L1正規化項で特徴量選択"
   ]
  },
  {
   "cell_type": "code",
   "execution_count": 62,
   "id": "16476f8a-2b3b-4319-aa7d-f51d3cfa1734",
   "metadata": {},
   "outputs": [
    {
     "data": {
      "text/html": [
       "<div>\n",
       "<style scoped>\n",
       "    .dataframe tbody tr th:only-of-type {\n",
       "        vertical-align: middle;\n",
       "    }\n",
       "\n",
       "    .dataframe tbody tr th {\n",
       "        vertical-align: top;\n",
       "    }\n",
       "\n",
       "    .dataframe thead th {\n",
       "        text-align: right;\n",
       "    }\n",
       "</style>\n",
       "<table border=\"1\" class=\"dataframe\">\n",
       "  <thead>\n",
       "    <tr style=\"text-align: right;\">\n",
       "      <th></th>\n",
       "      <th>culmen_length_mm</th>\n",
       "      <th>culmen_depth_mm</th>\n",
       "      <th>flipper_length_mm</th>\n",
       "      <th>culmen_length_mm^2</th>\n",
       "      <th>culmen_depth_mm^2</th>\n",
       "      <th>culmen_diff</th>\n",
       "      <th>culmen_ratio</th>\n",
       "    </tr>\n",
       "  </thead>\n",
       "  <tbody>\n",
       "    <tr>\n",
       "      <th>0</th>\n",
       "      <td>-0.884499</td>\n",
       "      <td>0.785449</td>\n",
       "      <td>-1.418347</td>\n",
       "      <td>-0.893164</td>\n",
       "      <td>0.768371</td>\n",
       "      <td>-1.024588</td>\n",
       "      <td>-1.036429</td>\n",
       "    </tr>\n",
       "    <tr>\n",
       "      <th>1</th>\n",
       "      <td>-0.811126</td>\n",
       "      <td>0.126188</td>\n",
       "      <td>-1.062250</td>\n",
       "      <td>-0.827866</td>\n",
       "      <td>0.070068</td>\n",
       "      <td>-0.751183</td>\n",
       "      <td>-0.675598</td>\n",
       "    </tr>\n",
       "    <tr>\n",
       "      <th>2</th>\n",
       "      <td>-0.664380</td>\n",
       "      <td>0.430462</td>\n",
       "      <td>-0.421277</td>\n",
       "      <td>-0.695276</td>\n",
       "      <td>0.386112</td>\n",
       "      <td>-0.719018</td>\n",
       "      <td>-0.738471</td>\n",
       "    </tr>\n",
       "    <tr>\n",
       "      <th>4</th>\n",
       "      <td>-1.324737</td>\n",
       "      <td>1.089724</td>\n",
       "      <td>-0.563715</td>\n",
       "      <td>-1.270994</td>\n",
       "      <td>1.107627</td>\n",
       "      <td>-1.507068</td>\n",
       "      <td>-1.417695</td>\n",
       "    </tr>\n",
       "    <tr>\n",
       "      <th>5</th>\n",
       "      <td>-0.847812</td>\n",
       "      <td>1.748985</td>\n",
       "      <td>-0.777373</td>\n",
       "      <td>-0.860598</td>\n",
       "      <td>1.879435</td>\n",
       "      <td>-1.297994</td>\n",
       "      <td>-1.405186</td>\n",
       "    </tr>\n",
       "    <tr>\n",
       "      <th>...</th>\n",
       "      <td>...</td>\n",
       "      <td>...</td>\n",
       "      <td>...</td>\n",
       "      <td>...</td>\n",
       "      <td>...</td>\n",
       "      <td>...</td>\n",
       "      <td>...</td>\n",
       "    </tr>\n",
       "    <tr>\n",
       "      <th>338</th>\n",
       "      <td>0.601305</td>\n",
       "      <td>-1.750171</td>\n",
       "      <td>0.931890</td>\n",
       "      <td>0.558654</td>\n",
       "      <td>-1.642135</td>\n",
       "      <td>1.082241</td>\n",
       "      <td>1.690550</td>\n",
       "    </tr>\n",
       "    <tr>\n",
       "      <th>340</th>\n",
       "      <td>0.527932</td>\n",
       "      <td>-1.445897</td>\n",
       "      <td>1.003109</td>\n",
       "      <td>0.480563</td>\n",
       "      <td>-1.392157</td>\n",
       "      <td>0.921415</td>\n",
       "      <td>1.343164</td>\n",
       "    </tr>\n",
       "    <tr>\n",
       "      <th>341</th>\n",
       "      <td>1.188289</td>\n",
       "      <td>-0.735923</td>\n",
       "      <td>1.501644</td>\n",
       "      <td>1.207312</td>\n",
       "      <td>-0.767211</td>\n",
       "      <td>1.275233</td>\n",
       "      <td>1.217248</td>\n",
       "    </tr>\n",
       "    <tr>\n",
       "      <th>342</th>\n",
       "      <td>0.234440</td>\n",
       "      <td>-1.192335</td>\n",
       "      <td>0.789451</td>\n",
       "      <td>0.174842</td>\n",
       "      <td>-1.175658</td>\n",
       "      <td>0.583679</td>\n",
       "      <td>0.902865</td>\n",
       "    </tr>\n",
       "    <tr>\n",
       "      <th>343</th>\n",
       "      <td>1.096572</td>\n",
       "      <td>-0.533073</td>\n",
       "      <td>0.860670</td>\n",
       "      <td>1.103156</td>\n",
       "      <td>-0.577941</td>\n",
       "      <td>1.130489</td>\n",
       "      <td>0.994127</td>\n",
       "    </tr>\n",
       "  </tbody>\n",
       "</table>\n",
       "<p>342 rows × 7 columns</p>\n",
       "</div>"
      ],
      "text/plain": [
       "     culmen_length_mm  culmen_depth_mm  flipper_length_mm  culmen_length_mm^2  \\\n",
       "0           -0.884499         0.785449          -1.418347           -0.893164   \n",
       "1           -0.811126         0.126188          -1.062250           -0.827866   \n",
       "2           -0.664380         0.430462          -0.421277           -0.695276   \n",
       "4           -1.324737         1.089724          -0.563715           -1.270994   \n",
       "5           -0.847812         1.748985          -0.777373           -0.860598   \n",
       "..                ...              ...                ...                 ...   \n",
       "338          0.601305        -1.750171           0.931890            0.558654   \n",
       "340          0.527932        -1.445897           1.003109            0.480563   \n",
       "341          1.188289        -0.735923           1.501644            1.207312   \n",
       "342          0.234440        -1.192335           0.789451            0.174842   \n",
       "343          1.096572        -0.533073           0.860670            1.103156   \n",
       "\n",
       "     culmen_depth_mm^2  culmen_diff  culmen_ratio  \n",
       "0             0.768371    -1.024588     -1.036429  \n",
       "1             0.070068    -0.751183     -0.675598  \n",
       "2             0.386112    -0.719018     -0.738471  \n",
       "4             1.107627    -1.507068     -1.417695  \n",
       "5             1.879435    -1.297994     -1.405186  \n",
       "..                 ...          ...           ...  \n",
       "338          -1.642135     1.082241      1.690550  \n",
       "340          -1.392157     0.921415      1.343164  \n",
       "341          -0.767211     1.275233      1.217248  \n",
       "342          -1.175658     0.583679      0.902865  \n",
       "343          -0.577941     1.130489      0.994127  \n",
       "\n",
       "[342 rows x 7 columns]"
      ]
     },
     "execution_count": 62,
     "metadata": {},
     "output_type": "execute_result"
    }
   ],
   "source": [
    "SelectFromModel(LogisticRegression(penalty='l1', solver='liblinear'))\n",
    "pipeline = Pipeline([('scaler', StandardScaler()),\n",
    "                     ('feature selection', sfm)])\n",
    "pipeline.set_output(transform='pandas')\n",
    "pipeline.fit_transform(X, y)"
   ]
  },
  {
   "cell_type": "code",
   "execution_count": null,
   "id": "235ee71a-f4ee-49cf-8b44-d5f11d9a9384",
   "metadata": {},
   "outputs": [],
   "source": []
  }
 ],
 "metadata": {
  "kernelspec": {
   "display_name": "Python 3 (ipykernel)",
   "language": "python",
   "name": "python3"
  },
  "language_info": {
   "codemirror_mode": {
    "name": "ipython",
    "version": 3
   },
   "file_extension": ".py",
   "mimetype": "text/x-python",
   "name": "python",
   "nbconvert_exporter": "python",
   "pygments_lexer": "ipython3",
   "version": "3.9.13"
  }
 },
 "nbformat": 4,
 "nbformat_minor": 5
}
