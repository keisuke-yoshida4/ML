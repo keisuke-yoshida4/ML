{
 "cells": [
  {
   "cell_type": "markdown",
   "id": "3e7da62e-073a-4995-84d8-2cbde0048e45",
   "metadata": {},
   "source": [
    "# hold-out"
   ]
  },
  {
   "cell_type": "code",
   "execution_count": 1,
   "id": "10b8d206-03fa-4a3a-84d2-fe4e52eb0fa7",
   "metadata": {},
   "outputs": [
    {
     "data": {
      "text/html": [
       "<div>\n",
       "<style scoped>\n",
       "    .dataframe tbody tr th:only-of-type {\n",
       "        vertical-align: middle;\n",
       "    }\n",
       "\n",
       "    .dataframe tbody tr th {\n",
       "        vertical-align: top;\n",
       "    }\n",
       "\n",
       "    .dataframe thead th {\n",
       "        text-align: right;\n",
       "    }\n",
       "</style>\n",
       "<table border=\"1\" class=\"dataframe\">\n",
       "  <thead>\n",
       "    <tr style=\"text-align: right;\">\n",
       "      <th></th>\n",
       "      <th>total_bill</th>\n",
       "      <th>tip</th>\n",
       "      <th>sex</th>\n",
       "      <th>smoker</th>\n",
       "      <th>day</th>\n",
       "      <th>time</th>\n",
       "      <th>size</th>\n",
       "    </tr>\n",
       "  </thead>\n",
       "  <tbody>\n",
       "    <tr>\n",
       "      <th>0</th>\n",
       "      <td>16.99</td>\n",
       "      <td>1.01</td>\n",
       "      <td>Female</td>\n",
       "      <td>No</td>\n",
       "      <td>Sun</td>\n",
       "      <td>Dinner</td>\n",
       "      <td>2</td>\n",
       "    </tr>\n",
       "    <tr>\n",
       "      <th>1</th>\n",
       "      <td>10.34</td>\n",
       "      <td>1.66</td>\n",
       "      <td>Male</td>\n",
       "      <td>No</td>\n",
       "      <td>Sun</td>\n",
       "      <td>Dinner</td>\n",
       "      <td>3</td>\n",
       "    </tr>\n",
       "    <tr>\n",
       "      <th>2</th>\n",
       "      <td>21.01</td>\n",
       "      <td>3.50</td>\n",
       "      <td>Male</td>\n",
       "      <td>No</td>\n",
       "      <td>Sun</td>\n",
       "      <td>Dinner</td>\n",
       "      <td>3</td>\n",
       "    </tr>\n",
       "    <tr>\n",
       "      <th>3</th>\n",
       "      <td>23.68</td>\n",
       "      <td>3.31</td>\n",
       "      <td>Male</td>\n",
       "      <td>No</td>\n",
       "      <td>Sun</td>\n",
       "      <td>Dinner</td>\n",
       "      <td>2</td>\n",
       "    </tr>\n",
       "    <tr>\n",
       "      <th>4</th>\n",
       "      <td>24.59</td>\n",
       "      <td>3.61</td>\n",
       "      <td>Female</td>\n",
       "      <td>No</td>\n",
       "      <td>Sun</td>\n",
       "      <td>Dinner</td>\n",
       "      <td>4</td>\n",
       "    </tr>\n",
       "    <tr>\n",
       "      <th>...</th>\n",
       "      <td>...</td>\n",
       "      <td>...</td>\n",
       "      <td>...</td>\n",
       "      <td>...</td>\n",
       "      <td>...</td>\n",
       "      <td>...</td>\n",
       "      <td>...</td>\n",
       "    </tr>\n",
       "    <tr>\n",
       "      <th>239</th>\n",
       "      <td>29.03</td>\n",
       "      <td>5.92</td>\n",
       "      <td>Male</td>\n",
       "      <td>No</td>\n",
       "      <td>Sat</td>\n",
       "      <td>Dinner</td>\n",
       "      <td>3</td>\n",
       "    </tr>\n",
       "    <tr>\n",
       "      <th>240</th>\n",
       "      <td>27.18</td>\n",
       "      <td>2.00</td>\n",
       "      <td>Female</td>\n",
       "      <td>Yes</td>\n",
       "      <td>Sat</td>\n",
       "      <td>Dinner</td>\n",
       "      <td>2</td>\n",
       "    </tr>\n",
       "    <tr>\n",
       "      <th>241</th>\n",
       "      <td>22.67</td>\n",
       "      <td>2.00</td>\n",
       "      <td>Male</td>\n",
       "      <td>Yes</td>\n",
       "      <td>Sat</td>\n",
       "      <td>Dinner</td>\n",
       "      <td>2</td>\n",
       "    </tr>\n",
       "    <tr>\n",
       "      <th>242</th>\n",
       "      <td>17.82</td>\n",
       "      <td>1.75</td>\n",
       "      <td>Male</td>\n",
       "      <td>No</td>\n",
       "      <td>Sat</td>\n",
       "      <td>Dinner</td>\n",
       "      <td>2</td>\n",
       "    </tr>\n",
       "    <tr>\n",
       "      <th>243</th>\n",
       "      <td>18.78</td>\n",
       "      <td>3.00</td>\n",
       "      <td>Female</td>\n",
       "      <td>No</td>\n",
       "      <td>Thur</td>\n",
       "      <td>Dinner</td>\n",
       "      <td>2</td>\n",
       "    </tr>\n",
       "  </tbody>\n",
       "</table>\n",
       "<p>244 rows × 7 columns</p>\n",
       "</div>"
      ],
      "text/plain": [
       "     total_bill   tip     sex smoker   day    time  size\n",
       "0         16.99  1.01  Female     No   Sun  Dinner     2\n",
       "1         10.34  1.66    Male     No   Sun  Dinner     3\n",
       "2         21.01  3.50    Male     No   Sun  Dinner     3\n",
       "3         23.68  3.31    Male     No   Sun  Dinner     2\n",
       "4         24.59  3.61  Female     No   Sun  Dinner     4\n",
       "..          ...   ...     ...    ...   ...     ...   ...\n",
       "239       29.03  5.92    Male     No   Sat  Dinner     3\n",
       "240       27.18  2.00  Female    Yes   Sat  Dinner     2\n",
       "241       22.67  2.00    Male    Yes   Sat  Dinner     2\n",
       "242       17.82  1.75    Male     No   Sat  Dinner     2\n",
       "243       18.78  3.00  Female     No  Thur  Dinner     2\n",
       "\n",
       "[244 rows x 7 columns]"
      ]
     },
     "execution_count": 1,
     "metadata": {},
     "output_type": "execute_result"
    }
   ],
   "source": [
    "import numpy as np\n",
    "import pandas as pd\n",
    "import seaborn as sns\n",
    "from sklearn .model_selection import train_test_split\n",
    "# レストランでどれくらいのチップを払うか(データセット）\n",
    "df = sns.load_dataset('tips')\n",
    "df"
   ]
  },
  {
   "cell_type": "code",
   "execution_count": 4,
   "id": "ae630e27-e0bf-4cee-98e9-4d0236e1f0b7",
   "metadata": {},
   "outputs": [],
   "source": [
    "y_col = 'tip'\n",
    "X = df.drop(columns=[y_col])\n",
    "# '数値'と'カテゴリ'を分ける。total_billとsizeのデータフレームを取り出し、カラム部分をリスト化する。\n",
    "# 目的：標準化のために数値カラムのリストを取得\n",
    "numeric_cols = X.select_dtypes(include=np.number).columns.to_list()"
   ]
  },
  {
   "cell_type": "code",
   "execution_count": 5,
   "id": "19c21047-44f3-46c8-a4a0-4deec539da70",
   "metadata": {},
   "outputs": [
    {
     "data": {
      "text/plain": [
       "['total_bill', 'size']"
      ]
     },
     "execution_count": 5,
     "metadata": {},
     "output_type": "execute_result"
    }
   ],
   "source": [
    "numeric_cols"
   ]
  },
  {
   "cell_type": "code",
   "execution_count": 6,
   "id": "f5821b6a-4d19-4600-b293-4bff9ffee61d",
   "metadata": {},
   "outputs": [
    {
     "data": {
      "text/html": [
       "<div>\n",
       "<style scoped>\n",
       "    .dataframe tbody tr th:only-of-type {\n",
       "        vertical-align: middle;\n",
       "    }\n",
       "\n",
       "    .dataframe tbody tr th {\n",
       "        vertical-align: top;\n",
       "    }\n",
       "\n",
       "    .dataframe thead th {\n",
       "        text-align: right;\n",
       "    }\n",
       "</style>\n",
       "<table border=\"1\" class=\"dataframe\">\n",
       "  <thead>\n",
       "    <tr style=\"text-align: right;\">\n",
       "      <th></th>\n",
       "      <th>total_bill</th>\n",
       "      <th>size</th>\n",
       "      <th>sex_Female</th>\n",
       "      <th>smoker_No</th>\n",
       "      <th>day_Fri</th>\n",
       "      <th>day_Sat</th>\n",
       "      <th>day_Sun</th>\n",
       "      <th>time_Dinner</th>\n",
       "    </tr>\n",
       "  </thead>\n",
       "  <tbody>\n",
       "    <tr>\n",
       "      <th>0</th>\n",
       "      <td>16.99</td>\n",
       "      <td>2</td>\n",
       "      <td>1</td>\n",
       "      <td>1</td>\n",
       "      <td>0</td>\n",
       "      <td>0</td>\n",
       "      <td>1</td>\n",
       "      <td>1</td>\n",
       "    </tr>\n",
       "    <tr>\n",
       "      <th>1</th>\n",
       "      <td>10.34</td>\n",
       "      <td>3</td>\n",
       "      <td>0</td>\n",
       "      <td>1</td>\n",
       "      <td>0</td>\n",
       "      <td>0</td>\n",
       "      <td>1</td>\n",
       "      <td>1</td>\n",
       "    </tr>\n",
       "    <tr>\n",
       "      <th>2</th>\n",
       "      <td>21.01</td>\n",
       "      <td>3</td>\n",
       "      <td>0</td>\n",
       "      <td>1</td>\n",
       "      <td>0</td>\n",
       "      <td>0</td>\n",
       "      <td>1</td>\n",
       "      <td>1</td>\n",
       "    </tr>\n",
       "    <tr>\n",
       "      <th>3</th>\n",
       "      <td>23.68</td>\n",
       "      <td>2</td>\n",
       "      <td>0</td>\n",
       "      <td>1</td>\n",
       "      <td>0</td>\n",
       "      <td>0</td>\n",
       "      <td>1</td>\n",
       "      <td>1</td>\n",
       "    </tr>\n",
       "    <tr>\n",
       "      <th>4</th>\n",
       "      <td>24.59</td>\n",
       "      <td>4</td>\n",
       "      <td>1</td>\n",
       "      <td>1</td>\n",
       "      <td>0</td>\n",
       "      <td>0</td>\n",
       "      <td>1</td>\n",
       "      <td>1</td>\n",
       "    </tr>\n",
       "    <tr>\n",
       "      <th>...</th>\n",
       "      <td>...</td>\n",
       "      <td>...</td>\n",
       "      <td>...</td>\n",
       "      <td>...</td>\n",
       "      <td>...</td>\n",
       "      <td>...</td>\n",
       "      <td>...</td>\n",
       "      <td>...</td>\n",
       "    </tr>\n",
       "    <tr>\n",
       "      <th>239</th>\n",
       "      <td>29.03</td>\n",
       "      <td>3</td>\n",
       "      <td>0</td>\n",
       "      <td>1</td>\n",
       "      <td>0</td>\n",
       "      <td>1</td>\n",
       "      <td>0</td>\n",
       "      <td>1</td>\n",
       "    </tr>\n",
       "    <tr>\n",
       "      <th>240</th>\n",
       "      <td>27.18</td>\n",
       "      <td>2</td>\n",
       "      <td>1</td>\n",
       "      <td>0</td>\n",
       "      <td>0</td>\n",
       "      <td>1</td>\n",
       "      <td>0</td>\n",
       "      <td>1</td>\n",
       "    </tr>\n",
       "    <tr>\n",
       "      <th>241</th>\n",
       "      <td>22.67</td>\n",
       "      <td>2</td>\n",
       "      <td>0</td>\n",
       "      <td>0</td>\n",
       "      <td>0</td>\n",
       "      <td>1</td>\n",
       "      <td>0</td>\n",
       "      <td>1</td>\n",
       "    </tr>\n",
       "    <tr>\n",
       "      <th>242</th>\n",
       "      <td>17.82</td>\n",
       "      <td>2</td>\n",
       "      <td>0</td>\n",
       "      <td>1</td>\n",
       "      <td>0</td>\n",
       "      <td>1</td>\n",
       "      <td>0</td>\n",
       "      <td>1</td>\n",
       "    </tr>\n",
       "    <tr>\n",
       "      <th>243</th>\n",
       "      <td>18.78</td>\n",
       "      <td>2</td>\n",
       "      <td>1</td>\n",
       "      <td>1</td>\n",
       "      <td>0</td>\n",
       "      <td>0</td>\n",
       "      <td>0</td>\n",
       "      <td>1</td>\n",
       "    </tr>\n",
       "  </tbody>\n",
       "</table>\n",
       "<p>244 rows × 8 columns</p>\n",
       "</div>"
      ],
      "text/plain": [
       "     total_bill  size  sex_Female  smoker_No  day_Fri  day_Sat  day_Sun  \\\n",
       "0         16.99     2           1          1        0        0        1   \n",
       "1         10.34     3           0          1        0        0        1   \n",
       "2         21.01     3           0          1        0        0        1   \n",
       "3         23.68     2           0          1        0        0        1   \n",
       "4         24.59     4           1          1        0        0        1   \n",
       "..          ...   ...         ...        ...      ...      ...      ...   \n",
       "239       29.03     3           0          1        0        1        0   \n",
       "240       27.18     2           1          0        0        1        0   \n",
       "241       22.67     2           0          0        0        1        0   \n",
       "242       17.82     2           0          1        0        1        0   \n",
       "243       18.78     2           1          1        0        0        0   \n",
       "\n",
       "     time_Dinner  \n",
       "0              1  \n",
       "1              1  \n",
       "2              1  \n",
       "3              1  \n",
       "4              1  \n",
       "..           ...  \n",
       "239            1  \n",
       "240            1  \n",
       "241            1  \n",
       "242            1  \n",
       "243            1  \n",
       "\n",
       "[244 rows x 8 columns]"
      ]
     },
     "execution_count": 6,
     "metadata": {},
     "output_type": "execute_result"
    }
   ],
   "source": [
    "# ダミー変数作成(one hot エンコーディング） ※ダミー変数に変換すると数値化する(uint8)\n",
    "X = pd.get_dummies(X, drop_first=True)\n",
    "X"
   ]
  },
  {
   "cell_type": "code",
   "execution_count": 7,
   "id": "23ce8e52-29bc-4ea0-8e1b-41cc08cb4221",
   "metadata": {},
   "outputs": [],
   "source": [
    "y = df[y_col]\n",
    "X_train, X_test, y_train, y_test = train_test_split(X, y, test_size=0.3, random_state=0)"
   ]
  },
  {
   "cell_type": "code",
   "execution_count": 8,
   "id": "cb591b5f-0d0b-4de7-a472-b211b34a3fc5",
   "metadata": {},
   "outputs": [
    {
     "name": "stdout",
     "output_type": "stream",
     "text": [
      "170\n",
      "74\n"
     ]
    }
   ],
   "source": [
    "# trainデータとtestデータの数確認\n",
    "print(len(X_train))\n",
    "print(len(y_test))"
   ]
  },
  {
   "cell_type": "code",
   "execution_count": 9,
   "id": "03051a2d-d4d4-4635-89cc-b16a5b3a3591",
   "metadata": {},
   "outputs": [],
   "source": [
    "# 標準化\n",
    "# 標準化はデータ分割の後に実施する\n",
    "from sklearn.preprocessing import StandardScaler\n",
    "scaler = StandardScaler()\n",
    "X_train_scaled = X_train.copy()\n",
    "# 数字のカラムのみに対して標準化\n",
    "X_train_scaled[numeric_cols] = scaler.fit_transform(X_train[numeric_cols])\n",
    "X_test_scaled = X_test.copy()\n",
    "# 既に学習データでfitされているので、テストデータでfitはしない(間違えた数式になる)。汎化能力を評価するための信頼性の低下につながる\n",
    "X_test_scaled[numeric_cols] = scaler.transform(X_test[numeric_cols])"
   ]
  },
  {
   "cell_type": "code",
   "execution_count": 10,
   "id": "a546da56-037d-4d1e-838a-ec027bf7269f",
   "metadata": {},
   "outputs": [],
   "source": [
    "# 線形モデル学習\n",
    "from sklearn.linear_model import LinearRegression\n",
    "model = LinearRegression()\n",
    "model.fit(X_train_scaled, y_train)\n",
    "# 標準化された値で予測\n",
    "y_pred = model.predict(X_test_scaled)"
   ]
  },
  {
   "cell_type": "code",
   "execution_count": 11,
   "id": "2dcb745b-fe89-4247-a321-f280d58c103f",
   "metadata": {},
   "outputs": [
    {
     "data": {
      "text/plain": [
       "array([2.82249035, 2.97504474, 2.8260184 , 1.38113692, 3.15154584,\n",
       "       1.72121268, 2.48332645, 3.03579004, 2.75176346, 4.52560955,\n",
       "       3.1133346 , 3.14781575, 2.33198109, 2.11518372, 2.93262778,\n",
       "       4.27846609, 1.83157994, 2.26626275, 2.31085596, 3.24382161,\n",
       "       3.81889336, 2.85616455, 2.42949782, 2.42039736, 2.20253234,\n",
       "       2.42509643, 2.81777778, 4.70274951, 3.81268552, 2.38673795,\n",
       "       2.29194112, 2.20803273, 2.45503466, 1.7743294 , 2.71663745,\n",
       "       2.22913684, 2.72146912, 2.01205852, 5.85346207, 3.49435578,\n",
       "       2.26246168, 2.20347519, 2.50905642, 4.41646769, 1.97212663,\n",
       "       2.78445294, 2.65274212, 3.01652357, 2.73423023, 3.95761528,\n",
       "       3.9498931 , 2.53992971, 2.71758399, 6.35620823, 1.7434279 ,\n",
       "       2.33450139, 4.23562521, 3.29319236, 2.41114285, 2.20345847,\n",
       "       3.72455103, 2.29099827, 3.04008335, 3.74539008, 4.01431996,\n",
       "       2.26547605, 2.66047323, 3.84238482, 2.17921165, 3.87859588,\n",
       "       2.59899485, 1.94814647, 3.70801825, 2.11341037])"
      ]
     },
     "execution_count": 11,
     "metadata": {},
     "output_type": "execute_result"
    }
   ],
   "source": [
    "y_pred"
   ]
  },
  {
   "cell_type": "code",
   "execution_count": 12,
   "id": "8545fd1c-d561-47ab-ae8e-4c7b6e909b69",
   "metadata": {},
   "outputs": [
    {
     "data": {
      "text/html": [
       "<div>\n",
       "<style scoped>\n",
       "    .dataframe tbody tr th:only-of-type {\n",
       "        vertical-align: middle;\n",
       "    }\n",
       "\n",
       "    .dataframe tbody tr th {\n",
       "        vertical-align: top;\n",
       "    }\n",
       "\n",
       "    .dataframe thead th {\n",
       "        text-align: right;\n",
       "    }\n",
       "</style>\n",
       "<table border=\"1\" class=\"dataframe\">\n",
       "  <thead>\n",
       "    <tr style=\"text-align: right;\">\n",
       "      <th></th>\n",
       "      <th>total_bill</th>\n",
       "      <th>size</th>\n",
       "      <th>sex_Female</th>\n",
       "      <th>smoker_No</th>\n",
       "      <th>day_Fri</th>\n",
       "      <th>day_Sat</th>\n",
       "      <th>day_Sun</th>\n",
       "      <th>time_Dinner</th>\n",
       "    </tr>\n",
       "  </thead>\n",
       "  <tbody>\n",
       "    <tr>\n",
       "      <th>64</th>\n",
       "      <td>17.59</td>\n",
       "      <td>3</td>\n",
       "      <td>0</td>\n",
       "      <td>1</td>\n",
       "      <td>0</td>\n",
       "      <td>1</td>\n",
       "      <td>0</td>\n",
       "      <td>1</td>\n",
       "    </tr>\n",
       "    <tr>\n",
       "      <th>63</th>\n",
       "      <td>18.29</td>\n",
       "      <td>4</td>\n",
       "      <td>0</td>\n",
       "      <td>0</td>\n",
       "      <td>0</td>\n",
       "      <td>1</td>\n",
       "      <td>0</td>\n",
       "      <td>1</td>\n",
       "    </tr>\n",
       "    <tr>\n",
       "      <th>55</th>\n",
       "      <td>19.49</td>\n",
       "      <td>2</td>\n",
       "      <td>0</td>\n",
       "      <td>1</td>\n",
       "      <td>0</td>\n",
       "      <td>0</td>\n",
       "      <td>1</td>\n",
       "      <td>1</td>\n",
       "    </tr>\n",
       "    <tr>\n",
       "      <th>111</th>\n",
       "      <td>7.25</td>\n",
       "      <td>1</td>\n",
       "      <td>1</td>\n",
       "      <td>1</td>\n",
       "      <td>0</td>\n",
       "      <td>1</td>\n",
       "      <td>0</td>\n",
       "      <td>1</td>\n",
       "    </tr>\n",
       "    <tr>\n",
       "      <th>225</th>\n",
       "      <td>16.27</td>\n",
       "      <td>2</td>\n",
       "      <td>1</td>\n",
       "      <td>0</td>\n",
       "      <td>1</td>\n",
       "      <td>0</td>\n",
       "      <td>0</td>\n",
       "      <td>0</td>\n",
       "    </tr>\n",
       "    <tr>\n",
       "      <th>...</th>\n",
       "      <td>...</td>\n",
       "      <td>...</td>\n",
       "      <td>...</td>\n",
       "      <td>...</td>\n",
       "      <td>...</td>\n",
       "      <td>...</td>\n",
       "      <td>...</td>\n",
       "      <td>...</td>\n",
       "    </tr>\n",
       "    <tr>\n",
       "      <th>90</th>\n",
       "      <td>28.97</td>\n",
       "      <td>2</td>\n",
       "      <td>0</td>\n",
       "      <td>0</td>\n",
       "      <td>1</td>\n",
       "      <td>0</td>\n",
       "      <td>0</td>\n",
       "      <td>1</td>\n",
       "    </tr>\n",
       "    <tr>\n",
       "      <th>101</th>\n",
       "      <td>15.38</td>\n",
       "      <td>2</td>\n",
       "      <td>1</td>\n",
       "      <td>0</td>\n",
       "      <td>1</td>\n",
       "      <td>0</td>\n",
       "      <td>0</td>\n",
       "      <td>1</td>\n",
       "    </tr>\n",
       "    <tr>\n",
       "      <th>75</th>\n",
       "      <td>10.51</td>\n",
       "      <td>2</td>\n",
       "      <td>0</td>\n",
       "      <td>1</td>\n",
       "      <td>0</td>\n",
       "      <td>1</td>\n",
       "      <td>0</td>\n",
       "      <td>1</td>\n",
       "    </tr>\n",
       "    <tr>\n",
       "      <th>4</th>\n",
       "      <td>24.59</td>\n",
       "      <td>4</td>\n",
       "      <td>1</td>\n",
       "      <td>1</td>\n",
       "      <td>0</td>\n",
       "      <td>0</td>\n",
       "      <td>1</td>\n",
       "      <td>1</td>\n",
       "    </tr>\n",
       "    <tr>\n",
       "      <th>109</th>\n",
       "      <td>14.31</td>\n",
       "      <td>2</td>\n",
       "      <td>1</td>\n",
       "      <td>0</td>\n",
       "      <td>0</td>\n",
       "      <td>1</td>\n",
       "      <td>0</td>\n",
       "      <td>1</td>\n",
       "    </tr>\n",
       "  </tbody>\n",
       "</table>\n",
       "<p>74 rows × 8 columns</p>\n",
       "</div>"
      ],
      "text/plain": [
       "     total_bill  size  sex_Female  smoker_No  day_Fri  day_Sat  day_Sun  \\\n",
       "64        17.59     3           0          1        0        1        0   \n",
       "63        18.29     4           0          0        0        1        0   \n",
       "55        19.49     2           0          1        0        0        1   \n",
       "111        7.25     1           1          1        0        1        0   \n",
       "225       16.27     2           1          0        1        0        0   \n",
       "..          ...   ...         ...        ...      ...      ...      ...   \n",
       "90        28.97     2           0          0        1        0        0   \n",
       "101       15.38     2           1          0        1        0        0   \n",
       "75        10.51     2           0          1        0        1        0   \n",
       "4         24.59     4           1          1        0        0        1   \n",
       "109       14.31     2           1          0        0        1        0   \n",
       "\n",
       "     time_Dinner  \n",
       "64             1  \n",
       "63             1  \n",
       "55             1  \n",
       "111            1  \n",
       "225            0  \n",
       "..           ...  \n",
       "90             1  \n",
       "101            1  \n",
       "75             1  \n",
       "4              1  \n",
       "109            1  \n",
       "\n",
       "[74 rows x 8 columns]"
      ]
     },
     "execution_count": 12,
     "metadata": {},
     "output_type": "execute_result"
    }
   ],
   "source": [
    "# 予測値：64の人は2.82ドル、63の人は2.97ドルのチップを払う\n",
    "X_test"
   ]
  },
  {
   "cell_type": "code",
   "execution_count": 13,
   "id": "8ea18c5b-5f1e-4ed0-aa38-faa4693c3c9e",
   "metadata": {},
   "outputs": [
    {
     "data": {
      "text/plain": [
       "64     2.64\n",
       "63     3.76\n",
       "55     3.51\n",
       "111    1.00\n",
       "225    2.50\n",
       "       ... \n",
       "90     3.00\n",
       "101    3.00\n",
       "75     1.25\n",
       "4      3.61\n",
       "109    4.00\n",
       "Name: tip, Length: 74, dtype: float64"
      ]
     },
     "execution_count": 13,
     "metadata": {},
     "output_type": "execute_result"
    }
   ],
   "source": [
    "# 実際のデータ\n",
    "y_test"
   ]
  },
  {
   "cell_type": "code",
   "execution_count": 14,
   "id": "e27de7d5-8bba-471e-a03d-2ded93ae2e9e",
   "metadata": {},
   "outputs": [
    {
     "data": {
      "text/plain": [
       "0.955080898861715"
      ]
     },
     "execution_count": 14,
     "metadata": {},
     "output_type": "execute_result"
    }
   ],
   "source": [
    "# モデルの評価(MSE)\n",
    "from sklearn.metrics import mean_squared_error\n",
    "mean_squared_error(y_test, y_pred) # np.mean(np.square(t_test - y_pred))"
   ]
  },
  {
   "cell_type": "markdown",
   "id": "ede80bf7-4449-4475-a35c-44c6e6f1ae21",
   "metadata": {},
   "source": [
    "# LOOCV"
   ]
  },
  {
   "cell_type": "code",
   "execution_count": 15,
   "id": "07703b2b-ea5d-4ae1-b2fd-f143c32e3a88",
   "metadata": {},
   "outputs": [],
   "source": [
    "# データ準備\n",
    "# total_billからtipを予測する\n",
    "X = df['total_bill'].values.reshape(-1, 1)\n",
    "y = df['tip']"
   ]
  },
  {
   "cell_type": "code",
   "execution_count": 16,
   "id": "2318dc4a-5106-46a0-815f-2e68f6b6217d",
   "metadata": {},
   "outputs": [],
   "source": [
    "from sklearn.linear_model import LinearRegression\n",
    "from sklearn.model_selection import LeaveOneOut\n",
    "loo = LeaveOneOut()"
   ]
  },
  {
   "cell_type": "code",
   "execution_count": 18,
   "id": "703d9e9f-aa34-435b-8cf4-4dfd52c2e820",
   "metadata": {},
   "outputs": [],
   "source": [
    "model = LinearRegression()\n",
    "mse_list = []\n",
    "for train_index, test_index in loo.split(X):\n",
    "    X_train, X_test = X[train_index], X[test_index]\n",
    "    y_train, y_test = y[train_index], y[test_index]\n",
    "\n",
    "    # モデル学習\n",
    "    model.fit(X_train, y_train)\n",
    "    # テストデータの予測\n",
    "    y_pred = model.predict(X_test)\n",
    "    # MSE\n",
    "    mse = mean_squared_error(y_test, y_pred)\n",
    "    mse_list.append(mse)"
   ]
  },
  {
   "cell_type": "code",
   "execution_count": 21,
   "id": "31acbe1e-ded3-4b04-9aae-f5ef277e33a5",
   "metadata": {},
   "outputs": [
    {
     "name": "stdout",
     "output_type": "stream",
     "text": [
      "MSE(LOOCV):1.0675673489857436\n",
      "std:2.099794455177631\n"
     ]
    }
   ],
   "source": [
    "print(f\"MSE(LOOCV):{np.mean(mse_list)}\")\n",
    "print(f\"std:{np.std(mse_list)}\")"
   ]
  },
  {
   "cell_type": "code",
   "execution_count": 25,
   "id": "3e58a405-d146-40c9-a33a-1fa06b6ab58d",
   "metadata": {},
   "outputs": [
    {
     "name": "stdout",
     "output_type": "stream",
     "text": [
      "MSE(LOOCV):1.0675673489857436\n",
      "std:2.099794455177631\n"
     ]
    }
   ],
   "source": [
    "# cross_val_scoreを使えば２行で計算できる。\n",
    "from sklearn.model_selection import cross_val_score\n",
    "cv = LeaveOneOut()\n",
    "scores = cross_val_score(model, X, y, cv=cv, scoring='neg_mean_squared_error')\n",
    "print(f\"MSE(LOOCV):{-np.mean(scores)}\")\n",
    "print(f\"std:{np.std(scores)}\")"
   ]
  },
  {
   "cell_type": "markdown",
   "id": "12c008d9-decd-46dd-8ede-f02069e3fd02",
   "metadata": {},
   "source": [
    "# k-Fold CV"
   ]
  },
  {
   "cell_type": "code",
   "execution_count": 39,
   "id": "a4bab16e-734f-4b30-8d0b-a642a83e3a03",
   "metadata": {},
   "outputs": [],
   "source": [
    "from sklearn.model_selection import KFold, RepeatedKFold\n",
    "k = 5\n",
    "n_repeats = 3\n",
    "# cv = KFold(n_splits=k, shuffle=True, random_state=0)\n",
    "cv = RepeatedKFold(n_splits=k, n_repeats=n_repeats, random_state=0)\n",
    "model = LinearRegression()\n",
    "mse_list = []\n",
    "for train_index, test_index in cv.split(X):\n",
    "    X_train, X_test = X[train_index], X[test_index]\n",
    "    y_train, y_test = y[train_index], y[test_index]\n",
    "    # モデル学習\n",
    "    model.fit(X_train, y_train)\n",
    "    # テストデータ予測\n",
    "    y_pred = model.predict(X_test)\n",
    "    # MSE\n",
    "    mse = mean_squared_error(y_test, y_pred)\n",
    "    mse_list.append(mse)"
   ]
  },
  {
   "cell_type": "code",
   "execution_count": 40,
   "id": "0bc134af-edb4-4572-bdc6-a41e8d849d2a",
   "metadata": {},
   "outputs": [
    {
     "name": "stdout",
     "output_type": "stream",
     "text": [
      "MSE(5FoldCV): 1.0746387233165984\n",
      "std: 0.26517178540898434\n"
     ]
    }
   ],
   "source": [
    "print(f\"MSE({k}FoldCV): {np.mean(mse_list)}\")\n",
    "print(f\"std: {np.std(mse_list)}\")"
   ]
  },
  {
   "cell_type": "code",
   "execution_count": 42,
   "id": "611b9224-45e2-45cf-b060-3b3dd6ac10b1",
   "metadata": {
    "tags": []
   },
   "outputs": [
    {
     "name": "stdout",
     "output_type": "stream",
     "text": [
      "MSE(5FoldCV): 1.0746387233165984\n",
      "std: 0.26517178540898434\n"
     ]
    }
   ],
   "source": [
    "scores = cross_val_score(model, X, y, cv=cv, scoring='neg_mean_squared_error')\n",
    "print(f\"MSE({k}FoldCV): {-np.mean(scores)}\")\n",
    "print(f\"std: {np.std(scores)}\")"
   ]
  },
  {
   "cell_type": "markdown",
   "id": "fb977d25-9e1a-4a14-b2c2-71b5a5d3c307",
   "metadata": {},
   "source": [
    "# Pipeline"
   ]
  },
  {
   "cell_type": "markdown",
   "id": "877215e6-f627-4516-9440-f10dc9bd6650",
   "metadata": {},
   "source": [
    "## Pipeline + k-Fold"
   ]
  },
  {
   "cell_type": "code",
   "execution_count": 51,
   "id": "48bae9b9-48b9-488f-9b45-e06b1f2e02b8",
   "metadata": {},
   "outputs": [
    {
     "data": {
      "text/plain": [
       "array([-0.82130906, -1.07458421, -1.08801239, -1.33238677, -1.084763  ])"
      ]
     },
     "execution_count": 51,
     "metadata": {},
     "output_type": "execute_result"
    }
   ],
   "source": [
    "from sklearn.pipeline import Pipeline\n",
    "pipline = Pipeline(steps=[('scaler', StandardScaler()), ('model', LinearRegression())])\n",
    "cv = KFold(n_splits=5, shuffle=True, random_state=0)\n",
    "scores = cross_val_score(pipline, X, y, scoring='neg_mean_squared_error', cv=cv)\n",
    "scores"
   ]
  },
  {
   "cell_type": "code",
   "execution_count": 61,
   "id": "a92e812e-f8ac-48f1-967f-c8b02bf58517",
   "metadata": {},
   "outputs": [],
   "source": [
    "## Pipelineなし\n",
    "# 標準化　＋　線形回帰\n",
    "X_train, X_test, y_train, y_test = train_test_split(X, y, test_size=0.3, random_state=0)\n",
    "model = LinearRegression()\n",
    "scaler = StandardScaler()\n",
    "X_train_scaled = scaler.fit_transform(X_train)\n",
    "X_test_scaled = scaler.transform(X_test)\n",
    "model.fit(X_train_scaled, y_train)\n",
    "y_pred = model.predict(X_test_scaled)"
   ]
  },
  {
   "cell_type": "code",
   "execution_count": 62,
   "id": "61e8d587-ef63-4d9d-b8b4-4037dda3c464",
   "metadata": {},
   "outputs": [
    {
     "data": {
      "text/plain": [
       "array([2.71486884, 2.78639251, 2.90900452, 1.65836207, 2.57999564,\n",
       "       1.50509707, 2.74858715, 3.30136293, 2.77208778, 4.45800284,\n",
       "       3.50060744, 3.49345507, 2.35520697, 2.24587793, 2.28879213,\n",
       "       4.02375199, 1.77075641, 2.3480546 , 2.83645908, 3.2778623 ,\n",
       "       3.98901192, 3.05511716, 2.55240794, 2.45431834, 2.29798803,\n",
       "       2.59327861, 2.16004953, 3.96244599, 3.50162921, 2.5289073 ,\n",
       "       2.42264357, 2.19274606, 2.49314547, 1.99963215, 2.78639251,\n",
       "       2.28572683, 2.64743224, 1.97306622, 5.85577969, 2.55036441,\n",
       "       1.79425705, 2.18763723, 2.52073317, 3.96755482, 2.22135553,\n",
       "       2.65151931, 2.78128368, 3.12255376, 2.66173698, 3.66409011,\n",
       "       4.2567148 , 2.74552185, 3.01118119, 5.83943142, 1.89847725,\n",
       "       2.14676656, 3.97572896, 3.03161652, 2.37462053, 2.21113786,\n",
       "       3.70496078, 2.53299437, 3.07963956, 3.47199797, 3.99718606,\n",
       "       2.5043849 , 2.60043097, 4.2720413 , 1.97306622, 3.87763935,\n",
       "       2.4890584 , 1.99145802, 3.43010554, 2.37972937])"
      ]
     },
     "execution_count": 62,
     "metadata": {},
     "output_type": "execute_result"
    }
   ],
   "source": [
    "y_pred"
   ]
  },
  {
   "cell_type": "code",
   "execution_count": 58,
   "id": "661d93cf-2a89-46d5-9848-d5d129d30302",
   "metadata": {},
   "outputs": [
    {
     "data": {
      "text/plain": [
       "array([2.71486884, 2.78639251, 2.90900452, 1.65836207, 2.57999564,\n",
       "       1.50509707, 2.74858715, 3.30136293, 2.77208778, 4.45800284,\n",
       "       3.50060744, 3.49345507, 2.35520697, 2.24587793, 2.28879213,\n",
       "       4.02375199, 1.77075641, 2.3480546 , 2.83645908, 3.2778623 ,\n",
       "       3.98901192, 3.05511716, 2.55240794, 2.45431834, 2.29798803,\n",
       "       2.59327861, 2.16004953, 3.96244599, 3.50162921, 2.5289073 ,\n",
       "       2.42264357, 2.19274606, 2.49314547, 1.99963215, 2.78639251,\n",
       "       2.28572683, 2.64743224, 1.97306622, 5.85577969, 2.55036441,\n",
       "       1.79425705, 2.18763723, 2.52073317, 3.96755482, 2.22135553,\n",
       "       2.65151931, 2.78128368, 3.12255376, 2.66173698, 3.66409011,\n",
       "       4.2567148 , 2.74552185, 3.01118119, 5.83943142, 1.89847725,\n",
       "       2.14676656, 3.97572896, 3.03161652, 2.37462053, 2.21113786,\n",
       "       3.70496078, 2.53299437, 3.07963956, 3.47199797, 3.99718606,\n",
       "       2.5043849 , 2.60043097, 4.2720413 , 1.97306622, 3.87763935,\n",
       "       2.4890584 , 1.99145802, 3.43010554, 2.37972937])"
      ]
     },
     "execution_count": 58,
     "metadata": {},
     "output_type": "execute_result"
    }
   ],
   "source": [
    "## Pipelineあり\n",
    "X_train, X_test, y_train, y_test = train_test_split(X, y, test_size=0.3, random_state=0)\n",
    "pipeline = Pipeline(steps=[('scaler', StandardScaler()), ('model', LinearRegression())])\n",
    "pipeline.fit(X_train, y_train)\n",
    "y_pred_p = pipeline.predict(X_test)\n",
    "y_pred_p"
   ]
  },
  {
   "cell_type": "code",
   "execution_count": null,
   "id": "594c9fac-ff03-4eac-9624-f27a7034e5b2",
   "metadata": {},
   "outputs": [],
   "source": []
  }
 ],
 "metadata": {
  "kernelspec": {
   "display_name": "Python 3 (ipykernel)",
   "language": "python",
   "name": "python3"
  },
  "language_info": {
   "codemirror_mode": {
    "name": "ipython",
    "version": 3
   },
   "file_extension": ".py",
   "mimetype": "text/x-python",
   "name": "python",
   "nbconvert_exporter": "python",
   "pygments_lexer": "ipython3",
   "version": "3.9.12"
  }
 },
 "nbformat": 4,
 "nbformat_minor": 5
}
