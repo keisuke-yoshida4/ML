{
 "cells": [
  {
   "cell_type": "markdown",
   "id": "3f3ebf3d-8e37-46ab-9aa0-41c0d1298052",
   "metadata": {},
   "source": [
    "# SVM"
   ]
  },
  {
   "cell_type": "code",
   "execution_count": 23,
   "id": "d897a836-56ae-4d94-9e8e-16ecfff0481c",
   "metadata": {},
   "outputs": [],
   "source": [
    "import numpy as np\n",
    "import seaborn as sns\n",
    "import matplotlib.pyplot as plt\n",
    "from sklearn.model_selection import train_test_split\n",
    "from sklearn.preprocessing import StandardScaler\n",
    "from sklearn.decomposition import PCA\n",
    "from sklearn.svm import SVC\n",
    "from sklearn.metrics import accuracy_score\n",
    "from sklearn.inspection import DecisionBoundaryDisplay"
   ]
  },
  {
   "cell_type": "code",
   "execution_count": 8,
   "id": "0d2bf2c4-d58b-4732-9881-54b901d7da10",
   "metadata": {},
   "outputs": [],
   "source": [
    "df = sns.load_dataset('iris')\n",
    "y_col = 'species'\n",
    "X = df.drop(columns=[y_col])\n",
    "y = df[y_col]\n",
    "X_train, X_test, y_train, y_test = train_test_split(X, y, test_size=0.3, random_state=0)\n",
    "# 標準化\n",
    "scaler = StandardScaler().fit(X_train)\n",
    "X_train = scaler.transform(X_train)\n",
    "X_test = scaler.transform(X_test)\n",
    "# PCA\n",
    "pca = PCA(n_components=2)\n",
    "X_train_pc = pca.fit_transform(X_train)\n",
    "X_test_pc = pca.transform(X_test)"
   ]
  },
  {
   "cell_type": "code",
   "execution_count": 10,
   "id": "9ee747c7-0074-46b3-90c0-245d457256b9",
   "metadata": {},
   "outputs": [
    {
     "data": {
      "text/html": [
       "<style>#sk-container-id-1 {color: black;background-color: white;}#sk-container-id-1 pre{padding: 0;}#sk-container-id-1 div.sk-toggleable {background-color: white;}#sk-container-id-1 label.sk-toggleable__label {cursor: pointer;display: block;width: 100%;margin-bottom: 0;padding: 0.3em;box-sizing: border-box;text-align: center;}#sk-container-id-1 label.sk-toggleable__label-arrow:before {content: \"▸\";float: left;margin-right: 0.25em;color: #696969;}#sk-container-id-1 label.sk-toggleable__label-arrow:hover:before {color: black;}#sk-container-id-1 div.sk-estimator:hover label.sk-toggleable__label-arrow:before {color: black;}#sk-container-id-1 div.sk-toggleable__content {max-height: 0;max-width: 0;overflow: hidden;text-align: left;background-color: #f0f8ff;}#sk-container-id-1 div.sk-toggleable__content pre {margin: 0.2em;color: black;border-radius: 0.25em;background-color: #f0f8ff;}#sk-container-id-1 input.sk-toggleable__control:checked~div.sk-toggleable__content {max-height: 200px;max-width: 100%;overflow: auto;}#sk-container-id-1 input.sk-toggleable__control:checked~label.sk-toggleable__label-arrow:before {content: \"▾\";}#sk-container-id-1 div.sk-estimator input.sk-toggleable__control:checked~label.sk-toggleable__label {background-color: #d4ebff;}#sk-container-id-1 div.sk-label input.sk-toggleable__control:checked~label.sk-toggleable__label {background-color: #d4ebff;}#sk-container-id-1 input.sk-hidden--visually {border: 0;clip: rect(1px 1px 1px 1px);clip: rect(1px, 1px, 1px, 1px);height: 1px;margin: -1px;overflow: hidden;padding: 0;position: absolute;width: 1px;}#sk-container-id-1 div.sk-estimator {font-family: monospace;background-color: #f0f8ff;border: 1px dotted black;border-radius: 0.25em;box-sizing: border-box;margin-bottom: 0.5em;}#sk-container-id-1 div.sk-estimator:hover {background-color: #d4ebff;}#sk-container-id-1 div.sk-parallel-item::after {content: \"\";width: 100%;border-bottom: 1px solid gray;flex-grow: 1;}#sk-container-id-1 div.sk-label:hover label.sk-toggleable__label {background-color: #d4ebff;}#sk-container-id-1 div.sk-serial::before {content: \"\";position: absolute;border-left: 1px solid gray;box-sizing: border-box;top: 0;bottom: 0;left: 50%;z-index: 0;}#sk-container-id-1 div.sk-serial {display: flex;flex-direction: column;align-items: center;background-color: white;padding-right: 0.2em;padding-left: 0.2em;position: relative;}#sk-container-id-1 div.sk-item {position: relative;z-index: 1;}#sk-container-id-1 div.sk-parallel {display: flex;align-items: stretch;justify-content: center;background-color: white;position: relative;}#sk-container-id-1 div.sk-item::before, #sk-container-id-1 div.sk-parallel-item::before {content: \"\";position: absolute;border-left: 1px solid gray;box-sizing: border-box;top: 0;bottom: 0;left: 50%;z-index: -1;}#sk-container-id-1 div.sk-parallel-item {display: flex;flex-direction: column;z-index: 1;position: relative;background-color: white;}#sk-container-id-1 div.sk-parallel-item:first-child::after {align-self: flex-end;width: 50%;}#sk-container-id-1 div.sk-parallel-item:last-child::after {align-self: flex-start;width: 50%;}#sk-container-id-1 div.sk-parallel-item:only-child::after {width: 0;}#sk-container-id-1 div.sk-dashed-wrapped {border: 1px dashed gray;margin: 0 0.4em 0.5em 0.4em;box-sizing: border-box;padding-bottom: 0.4em;background-color: white;}#sk-container-id-1 div.sk-label label {font-family: monospace;font-weight: bold;display: inline-block;line-height: 1.2em;}#sk-container-id-1 div.sk-label-container {text-align: center;}#sk-container-id-1 div.sk-container {/* jupyter's `normalize.less` sets `[hidden] { display: none; }` but bootstrap.min.css set `[hidden] { display: none !important; }` so we also need the `!important` here to be able to override the default hidden behavior on the sphinx rendered scikit-learn.org. See: https://github.com/scikit-learn/scikit-learn/issues/21755 */display: inline-block !important;position: relative;}#sk-container-id-1 div.sk-text-repr-fallback {display: none;}</style><div id=\"sk-container-id-1\" class=\"sk-top-container\"><div class=\"sk-text-repr-fallback\"><pre>SVC(kernel=&#x27;linear&#x27;)</pre><b>In a Jupyter environment, please rerun this cell to show the HTML representation or trust the notebook. <br />On GitHub, the HTML representation is unable to render, please try loading this page with nbviewer.org.</b></div><div class=\"sk-container\" hidden><div class=\"sk-item\"><div class=\"sk-estimator sk-toggleable\"><input class=\"sk-toggleable__control sk-hidden--visually\" id=\"sk-estimator-id-1\" type=\"checkbox\" checked><label for=\"sk-estimator-id-1\" class=\"sk-toggleable__label sk-toggleable__label-arrow\">SVC</label><div class=\"sk-toggleable__content\"><pre>SVC(kernel=&#x27;linear&#x27;)</pre></div></div></div></div></div>"
      ],
      "text/plain": [
       "SVC(kernel='linear')"
      ]
     },
     "execution_count": 10,
     "metadata": {},
     "output_type": "execute_result"
    }
   ],
   "source": [
    "# 学習\n",
    "model = SVC(kernel='linear')\n",
    "model.fit(X_train_pc, y_train)"
   ]
  },
  {
   "cell_type": "code",
   "execution_count": 12,
   "id": "62cbdeee-ecfb-4609-b418-49eb6abe5f97",
   "metadata": {},
   "outputs": [
    {
     "data": {
      "text/plain": [
       "0.9111111111111111"
      ]
     },
     "execution_count": 12,
     "metadata": {},
     "output_type": "execute_result"
    }
   ],
   "source": [
    "# 予測\n",
    "y_pred = model.predict(X_test_pc)\n",
    "accuracy_score(y_test, y_pred)"
   ]
  },
  {
   "cell_type": "code",
   "execution_count": 13,
   "id": "6f8687d4-02ba-4c2c-adad-5ef34dab5e25",
   "metadata": {},
   "outputs": [
    {
     "data": {
      "text/plain": [
       "array([[-2.01808086, -2.16076222],\n",
       "       [-1.83691058,  0.22264198],\n",
       "       [ 0.68991796,  0.71639709],\n",
       "       [ 1.01841242,  0.75406273],\n",
       "       [ 1.14259734,  0.50582016],\n",
       "       [-0.59799672, -1.47307272],\n",
       "       [ 1.00108719, -1.69126085],\n",
       "       [ 0.21435381, -1.74582022],\n",
       "       [ 0.76807504,  0.17465618],\n",
       "       [ 0.58546256, -0.11934379],\n",
       "       [-0.65005847, -1.76724016],\n",
       "       [ 0.78292811,  0.42709078],\n",
       "       [ 1.05347893, -1.00878745],\n",
       "       [ 1.24654811,  0.22456375],\n",
       "       [ 0.8060938 , -0.04480644],\n",
       "       [ 0.67115053,  0.36047773],\n",
       "       [ 0.83577732, -1.44733591],\n",
       "       [ 1.36078095,  0.15396725],\n",
       "       [ 1.18175475, -0.56575389],\n",
       "       [ 0.9792362 , -0.36356179],\n",
       "       [ 0.21142607, -1.52270906],\n",
       "       [ 1.01399725, -0.74821922],\n",
       "       [ 0.86207563, -0.06985412],\n",
       "       [ 1.28474342,  0.5928925 ],\n",
       "       [ 1.326855  ,  0.92380604],\n",
       "       [ 1.08677516, -1.21143932],\n",
       "       [ 0.82552169, -0.03239705],\n",
       "       [ 1.52725209,  0.96532955],\n",
       "       [ 1.01399725, -0.74821922],\n",
       "       [ 1.31720646, -0.13584069]])"
      ]
     },
     "execution_count": 13,
     "metadata": {},
     "output_type": "execute_result"
    }
   ],
   "source": [
    "# サポートベクトル\n",
    "model.support_vectors_"
   ]
  },
  {
   "cell_type": "markdown",
   "id": "89f4bf2d-56c9-48c4-bea0-746771688d94",
   "metadata": {},
   "source": [
    "## 決定境界とサポートベクトルの可視化"
   ]
  },
  {
   "cell_type": "code",
   "execution_count": 39,
   "id": "91c7b3b0-663d-4742-ae2c-c9b72f002976",
   "metadata": {},
   "outputs": [
    {
     "data": {
      "text/plain": [
       "<matplotlib.legend.Legend at 0x7fa24e9ea190>"
      ]
     },
     "execution_count": 39,
     "metadata": {},
     "output_type": "execute_result"
    },
    {
     "data": {
      "image/png": "[encoded data removed]",
      "text/plain": [
       "<Figure size 432x288 with 1 Axes>"
      ]
     },
     "metadata": {
      "needs_background": "light"
     },
     "output_type": "display_data"
    }
   ],
   "source": [
    "# 決定境界の線を引く\n",
    "DecisionBoundaryDisplay.from_estimator(model,\n",
    "                                       X_train_pc,\n",
    "                                       plot_method='contour',\n",
    "                                       # カテゴリデータに適した視覚的に明確な色のセットを提供する定性的なカラーマップ\n",
    "                                       cmap=plt.cm.Paired,\n",
    "                                       xlabel='first principal component',\n",
    "                                       ylabel='second principal component')\n",
    "\n",
    "# 色分けしてプロット\n",
    "for class_, color in zip(model.classes_, 'bry'):\n",
    "    idx = np.where(y_train == class_)\n",
    "    plt.scatter(X_train_pc[idx, 0],\n",
    "                X_train_pc[idx, 1],\n",
    "                c=color,\n",
    "                label=class_,\n",
    "                edgecolors='black',\n",
    "                s=20)\n",
    "plt.legend()\n",
    "\n",
    "# マージンの中に入っているサポートベクトルを丸で囲う\n",
    "plt.scatter(model.support_vectors_[:, 0],\n",
    "             model.support_vectors_[:, 1],\n",
    "             s=100,\n",
    "             facecolor='none',\n",
    "             linewidth=1,\n",
    "             edgecolors='black')\n",
    "plt.legend()"
   ]
  },
  {
   "cell_type": "code",
   "execution_count": null,
   "id": "8f428836-13a2-44b0-9cd9-bdfccb9e0f98",
   "metadata": {},
   "outputs": [],
   "source": []
  }
 ],
 "metadata": {
  "kernelspec": {
   "display_name": "Python 3 (ipykernel)",
   "language": "python",
   "name": "python3"
  },
  "language_info": {
   "codemirror_mode": {
    "name": "ipython",
    "version": 3
   },
   "file_extension": ".py",
   "mimetype": "text/x-python",
   "name": "python",
   "nbconvert_exporter": "python",
   "pygments_lexer": "ipython3",
   "version": "3.9.12"
  }
 },
 "nbformat": 4,
 "nbformat_minor": 5
}
