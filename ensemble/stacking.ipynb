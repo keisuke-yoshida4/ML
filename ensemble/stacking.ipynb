{
 "cells": [
  {
   "cell_type": "markdown",
   "id": "1237d80e-cc6b-482a-be9e-e49aa1e1cfc9",
   "metadata": {},
   "source": [
    "# Stacking"
   ]
  },
  {
   "cell_type": "code",
   "execution_count": 33,
   "id": "fae43253-d9aa-420e-b272-9a386548715b",
   "metadata": {},
   "outputs": [],
   "source": [
    "import numpy as np\n",
    "import seaborn as sns\n",
    "import pandas as pd\n",
    "import matplotlib.pyplot as plt\n",
    "from sklearn.preprocessing import OrdinalEncoder\n",
    "from sklearn.model_selection import train_test_split, KFold\n",
    "from sklearn.ensemble import RandomForestClassifier\n",
    "from sklearn.neighbors import KNeighborsClassifier\n",
    "from sklearn.metrics import roc_auc_score\n",
    "from sklearn.linear_model import LogisticRegression"
   ]
  },
  {
   "cell_type": "code",
   "execution_count": 2,
   "id": "a96f5baf-eaf5-40ba-843e-342f7399030a",
   "metadata": {},
   "outputs": [],
   "source": [
    "# データ準備\n",
    "df = sns.load_dataset('titanic')\n",
    "df.dropna(inplace=True)\n",
    "# X, yを作成\n",
    "X = df.loc[:, (df.columns!='survived') & (df.columns!='alive')]\n",
    "y = df['survived']\n",
    "# カテゴリ変数の特徴量を整数に変換する\n",
    "oe = OrdinalEncoder()\n",
    "# numpyからdfの形に変換\n",
    "oe.set_output(transform='pandas')\n",
    "X = oe.fit_transform(X)\n",
    "# トレーニングデータとテストデータを7:3に分割\n",
    "X_train, X_test, y_train, y_test = train_test_split(X, y, test_size=0.3, random_state=0)"
   ]
  },
  {
   "cell_type": "code",
   "execution_count": 30,
   "id": "c1fdfca9-370f-4faa-a8fa-4d070b38f03c",
   "metadata": {},
   "outputs": [],
   "source": [
    "class StackingClassifierCV():\n",
    "    \n",
    "    def __init__(self, estimators, final_estimator, cv):\n",
    "        self.estimators = estimators\n",
    "        self.final_estimator = final_estimator\n",
    "        self.cv = cv\n",
    "        \n",
    "    def fit(self, X, y):\n",
    "        pred_features = {}\n",
    "        # 1層目のモデル学習\n",
    "        for model_name, model in self.estimators:\n",
    "            preds = []\n",
    "            new_y = []\n",
    "            \n",
    "            for train_idx, val_idx in self.cv.split(X):\n",
    "                X_train, X_val = X.iloc[train_idx], X.iloc[val_idx]\n",
    "                y_train, y_val = y.iloc[train_idx], y.iloc[val_idx]\n",
    "                model.fit(X_train, y_train)\n",
    "                pred = model.predict_proba(X_val)[:, 1].tolist()\n",
    "                preds += pred\n",
    "                new_y += y_val.tolist()\n",
    "            model.fit(X, y)\n",
    "            pred_features[model_name] = preds\n",
    "            \n",
    "        # 2層目のモデル学習\n",
    "        new_X = pd.DataFrame(pred_features)\n",
    "        self.final_estimator.fit(new_X, new_y)\n",
    "        \n",
    "    def predict_proba(self, X):\n",
    "        # 1層目のモデルで特徴量(予測値)生成\n",
    "        pred_features = {}\n",
    "        for model_name, model in self.estimators:\n",
    "            pred = model.predict_proba(X)[:, 1]\n",
    "            pred_features[model_name] = pred\n",
    "            \n",
    "        new_X = pd.DataFrame(pred_features)\n",
    "        final_pred = self.final_estimator.predict_proba(new_X)\n",
    "        return final_pred"
   ]
  },
  {
   "cell_type": "code",
   "execution_count": 32,
   "id": "6550573d-e57f-42d2-9a1a-7c4988eb098d",
   "metadata": {},
   "outputs": [],
   "source": [
    "cv = KFold(n_splits=5, shuffle=True, random_state=0)\n",
    "final_estimator = LogisticRegression()\n",
    "stacking_cv = StackingClassifierCV(estimators= [('rf', RandomForestClassifier()), ('knn', KNeighborsClassifier())],\n",
    "                                  final_estimator=final_estimator,\n",
    "                                  cv=cv)\n",
    "stacking_cv.fit(X_train, y_train)\n",
    "y_pred_stacking_cv = stacking_cv.predict_proba(X_test)"
   ]
  },
  {
   "cell_type": "code",
   "execution_count": 34,
   "id": "fa82d8c1-c8c1-489d-bef9-c8eddadaea10",
   "metadata": {},
   "outputs": [
    {
     "name": "stdout",
     "output_type": "stream",
     "text": [
      "stackingCV AUC: 0.8181089743589745\n"
     ]
    }
   ],
   "source": [
    "print(f\"stackingCV AUC: {roc_auc_score(y_test, y_pred_stacking_cv[:, 1])}\")"
   ]
  },
  {
   "cell_type": "code",
   "execution_count": null,
   "id": "f3ac05d0-6692-46f6-81ac-80111b343151",
   "metadata": {},
   "outputs": [],
   "source": []
  }
 ],
 "metadata": {
  "kernelspec": {
   "display_name": "Python 3 (ipykernel)",
   "language": "python",
   "name": "python3"
  },
  "language_info": {
   "codemirror_mode": {
    "name": "ipython",
    "version": 3
   },
   "file_extension": ".py",
   "mimetype": "text/x-python",
   "name": "python",
   "nbconvert_exporter": "python",
   "pygments_lexer": "ipython3",
   "version": "3.9.13"
  }
 },
 "nbformat": 4,
 "nbformat_minor": 5
}
